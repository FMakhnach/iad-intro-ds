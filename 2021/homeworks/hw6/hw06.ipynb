{
 "cells": [
  {
   "cell_type": "markdown",
   "metadata": {},
   "source": [
    "# Махнач Федор, ИАД-3"
   ]
  },
  {
   "cell_type": "markdown",
   "metadata": {},
   "source": [
    "# Домашнее задание 6: классификация текстов"
   ]
  },
  {
   "cell_type": "markdown",
   "metadata": {},
   "source": [
    "В этом домашнем задании вам предстоит построить классификатор текстов и поучаствовать в соревновании на Kaggle!\n",
    "Первым делом вам предстоит построить хороший бейзлайн, а дальше пытаться улучшать, соревнуясь с другими участниками.\n",
    "\n",
    "\n",
    "Ссылка на соревнование: https://www.kaggle.com/c/avito-category-prediction/overview\n",
    "Данные для домашнего задания можно скачать на странице соревнования.\n",
    "Чтобы ваше участие было засчитано, убедитесь, что имя в Leaderboard имеет вид: «Имя Фамилия номер_группы».\n",
    "\n",
    "Оценивание:\n",
    "\n",
    "Домашнее задание оценивается как обычно. Баллы указаны напротив заданий.\n",
    "\n",
    "За соревнование даются бонусные баллы следующим образом.\n",
    "Если вы пересекли baseline_2 на приватном лидерборде, ваша оценка равна \n",
    "\n",
    "10 - 10 * (i - 1) / M\n",
    "\n",
    "где M — количество студентов, принявших участие в соревновании;\n",
    "\n",
    "i — место (начиная с 1) студента в приватном лидерборде среди всех таких студентов.\n",
    "\n",
    "Правила:\n",
    "\n",
    "* Домашнее задание оценивается в 10 баллов.\n",
    "\n",
    "* Плагиат не допускается. При обнаружении случаев списывания, 0 за работу выставляется всем участникам нарушения, даже если можно установить, кто у кого списал.\n",
    "\n",
    "* Старайтесь сделать код как можно более оптимальным. В частности, будет штрафоваться использование циклов в тех случаях, когда операцию можно совершить при помощи инструментов библиотек, о которых рассказывалось в курсе.  \n",
    "\n",
    "* В течение 3 суток после окончания соревнования в соответствующее задание на anytask необходимо прислать код, воспроизводящий ответы для посылки, фигурирующей в приватном лидерборде. В случае отсутствия кода, воспроизводящего результат, в установленный срок студенту выставляется 0 в качестве оценки за соревнование. Если не оговорено иное, использовать любые внешние данные в соревнованиях '''запрещено'''. Под внешними данными понимаются размеченные данные, где разметка имеет прямое отношение к решаемой задаче. Грубо говоря, сборник текстов с википедии не считается внешними данными.\n"
   ]
  },
  {
   "cell_type": "markdown",
   "metadata": {},
   "source": [
    "Мы будем работать с датасетом объявлений Avito. Нам предстоит по заголовку и тексту объявления предсказывать категорию объявления."
   ]
  },
  {
   "cell_type": "code",
   "execution_count": 1,
   "metadata": {},
   "outputs": [],
   "source": [
    "import pandas as pd"
   ]
  },
  {
   "cell_type": "code",
   "execution_count": 2,
   "metadata": {},
   "outputs": [],
   "source": [
    "train = pd.read_csv('avito-text-classification/train.csv')\n",
    "test = pd.read_csv('avito-text-classification/test.csv')"
   ]
  },
  {
   "cell_type": "code",
   "execution_count": 3,
   "metadata": {},
   "outputs": [
    {
     "data": {
      "text/html": [
       "<div>\n",
       "<style scoped>\n",
       "    .dataframe tbody tr th:only-of-type {\n",
       "        vertical-align: middle;\n",
       "    }\n",
       "\n",
       "    .dataframe tbody tr th {\n",
       "        vertical-align: top;\n",
       "    }\n",
       "\n",
       "    .dataframe thead th {\n",
       "        text-align: right;\n",
       "    }\n",
       "</style>\n",
       "<table border=\"1\" class=\"dataframe\">\n",
       "  <thead>\n",
       "    <tr style=\"text-align: right;\">\n",
       "      <th></th>\n",
       "      <th>title</th>\n",
       "      <th>description</th>\n",
       "      <th>Category_name</th>\n",
       "      <th>Category</th>\n",
       "    </tr>\n",
       "  </thead>\n",
       "  <tbody>\n",
       "    <tr>\n",
       "      <th>0</th>\n",
       "      <td>Эбу Renault / Nissan 1,5 DCI Delphi 2001-2008 год</td>\n",
       "      <td>Комплект ЭБУ (мозги, компьютер мотора, двигате...</td>\n",
       "      <td>Запчасти и аксессуары</td>\n",
       "      <td>10</td>\n",
       "    </tr>\n",
       "    <tr>\n",
       "      <th>1</th>\n",
       "      <td>Утюг утп 1000 ватт СССР 1987 год</td>\n",
       "      <td>Продам/\\n Фото № 1-2 /\\n /\\nУтюг УТП 1000 ватт...</td>\n",
       "      <td>Бытовая техника</td>\n",
       "      <td>21</td>\n",
       "    </tr>\n",
       "    <tr>\n",
       "      <th>2</th>\n",
       "      <td>Возвму машину с выкупом</td>\n",
       "      <td>Возьму машину в аренду с последующим выкупом н...</td>\n",
       "      <td>Предложение услуг</td>\n",
       "      <td>114</td>\n",
       "    </tr>\n",
       "    <tr>\n",
       "      <th>3</th>\n",
       "      <td>Полусапожки</td>\n",
       "      <td>полусапожки в отличном состоянии, один раз оде...</td>\n",
       "      <td>Одежда, обувь, аксессуары</td>\n",
       "      <td>27</td>\n",
       "    </tr>\n",
       "    <tr>\n",
       "      <th>4</th>\n",
       "      <td>Босоножки кожаные</td>\n",
       "      <td>Кожаные(натур) босоножки Karlo Pasolini, 40 рр...</td>\n",
       "      <td>Одежда, обувь, аксессуары</td>\n",
       "      <td>27</td>\n",
       "    </tr>\n",
       "    <tr>\n",
       "      <th>...</th>\n",
       "      <td>...</td>\n",
       "      <td>...</td>\n",
       "      <td>...</td>\n",
       "      <td>...</td>\n",
       "    </tr>\n",
       "    <tr>\n",
       "      <th>4234037</th>\n",
       "      <td>Мопед Дельта Мотоланд 70 кубиков</td>\n",
       "      <td>Продам новый мопед Дельта купленный 18 июня 20...</td>\n",
       "      <td>Мотоциклы и мототехника</td>\n",
       "      <td>14</td>\n",
       "    </tr>\n",
       "    <tr>\n",
       "      <th>4234038</th>\n",
       "      <td>Xiaomi A2 4/64 почти новый (б/у 3 дня)</td>\n",
       "      <td>Xiaomi A2 версия 4/64. /\\nВерсия полноценная, ...</td>\n",
       "      <td>Телефоны</td>\n",
       "      <td>84</td>\n",
       "    </tr>\n",
       "    <tr>\n",
       "      <th>4234039</th>\n",
       "      <td>Шерстяной комбинезон Joha</td>\n",
       "      <td>В отличном состоянии. Мягкий, приятный к телу....</td>\n",
       "      <td>Детская одежда и обувь</td>\n",
       "      <td>29</td>\n",
       "    </tr>\n",
       "    <tr>\n",
       "      <th>4234040</th>\n",
       "      <td>Джинсы фирмы Zara р.152</td>\n",
       "      <td>Новые</td>\n",
       "      <td>Детская одежда и обувь</td>\n",
       "      <td>29</td>\n",
       "    </tr>\n",
       "    <tr>\n",
       "      <th>4234041</th>\n",
       "      <td>Дом 105 м² на участке 10 сот.</td>\n",
       "      <td>Продам полдома , земли 10 сот . Газ , вода на ...</td>\n",
       "      <td>Дома, дачи, коттеджи</td>\n",
       "      <td>25</td>\n",
       "    </tr>\n",
       "  </tbody>\n",
       "</table>\n",
       "<p>4234042 rows × 4 columns</p>\n",
       "</div>"
      ],
      "text/plain": [
       "                                                     title  \\\n",
       "0        Эбу Renault / Nissan 1,5 DCI Delphi 2001-2008 год   \n",
       "1                         Утюг утп 1000 ватт СССР 1987 год   \n",
       "2                                  Возвму машину с выкупом   \n",
       "3                                              Полусапожки   \n",
       "4                                        Босоножки кожаные   \n",
       "...                                                    ...   \n",
       "4234037                   Мопед Дельта Мотоланд 70 кубиков   \n",
       "4234038             Xiaomi A2 4/64 почти новый (б/у 3 дня)   \n",
       "4234039                          Шерстяной комбинезон Joha   \n",
       "4234040                            Джинсы фирмы Zara р.152   \n",
       "4234041                      Дом 105 м² на участке 10 сот.   \n",
       "\n",
       "                                               description  \\\n",
       "0        Комплект ЭБУ (мозги, компьютер мотора, двигате...   \n",
       "1        Продам/\\n Фото № 1-2 /\\n /\\nУтюг УТП 1000 ватт...   \n",
       "2        Возьму машину в аренду с последующим выкупом н...   \n",
       "3        полусапожки в отличном состоянии, один раз оде...   \n",
       "4        Кожаные(натур) босоножки Karlo Pasolini, 40 рр...   \n",
       "...                                                    ...   \n",
       "4234037  Продам новый мопед Дельта купленный 18 июня 20...   \n",
       "4234038  Xiaomi A2 версия 4/64. /\\nВерсия полноценная, ...   \n",
       "4234039  В отличном состоянии. Мягкий, приятный к телу....   \n",
       "4234040                                              Новые   \n",
       "4234041  Продам полдома , земли 10 сот . Газ , вода на ...   \n",
       "\n",
       "                     Category_name  Category  \n",
       "0            Запчасти и аксессуары        10  \n",
       "1                  Бытовая техника        21  \n",
       "2                Предложение услуг       114  \n",
       "3        Одежда, обувь, аксессуары        27  \n",
       "4        Одежда, обувь, аксессуары        27  \n",
       "...                            ...       ...  \n",
       "4234037    Мотоциклы и мототехника        14  \n",
       "4234038                   Телефоны        84  \n",
       "4234039     Детская одежда и обувь        29  \n",
       "4234040     Детская одежда и обувь        29  \n",
       "4234041       Дома, дачи, коттеджи        25  \n",
       "\n",
       "[4234042 rows x 4 columns]"
      ]
     },
     "execution_count": 3,
     "metadata": {},
     "output_type": "execute_result"
    }
   ],
   "source": [
    "train"
   ]
  },
  {
   "cell_type": "code",
   "execution_count": 4,
   "metadata": {
    "scrolled": true
   },
   "outputs": [
    {
     "data": {
      "text/html": [
       "<div>\n",
       "<style scoped>\n",
       "    .dataframe tbody tr th:only-of-type {\n",
       "        vertical-align: middle;\n",
       "    }\n",
       "\n",
       "    .dataframe tbody tr th {\n",
       "        vertical-align: top;\n",
       "    }\n",
       "\n",
       "    .dataframe thead th {\n",
       "        text-align: right;\n",
       "    }\n",
       "</style>\n",
       "<table border=\"1\" class=\"dataframe\">\n",
       "  <thead>\n",
       "    <tr style=\"text-align: right;\">\n",
       "      <th></th>\n",
       "      <th>title</th>\n",
       "      <th>description</th>\n",
       "      <th>itemid</th>\n",
       "    </tr>\n",
       "  </thead>\n",
       "  <tbody>\n",
       "    <tr>\n",
       "      <th>0</th>\n",
       "      <td>Мастерка</td>\n",
       "      <td>Мастерка фирмы форвард. Белого цвета. В идеаль...</td>\n",
       "      <td>1778449823</td>\n",
       "    </tr>\n",
       "    <tr>\n",
       "      <th>1</th>\n",
       "      <td>Зимние сапоги</td>\n",
       "      <td>Продаю зимние сапоги, в хорошем состоянии, все...</td>\n",
       "      <td>1677656962</td>\n",
       "    </tr>\n",
       "    <tr>\n",
       "      <th>2</th>\n",
       "      <td>Видеонаблюдение 8 камер</td>\n",
       "      <td>В комплект Atis AMD-2MIR-8kit входит: /\\n1. Ку...</td>\n",
       "      <td>1758182804</td>\n",
       "    </tr>\n",
       "    <tr>\n",
       "      <th>3</th>\n",
       "      <td>Запчасти для GLE</td>\n",
       "      <td>Запчасти GLE</td>\n",
       "      <td>1689811299</td>\n",
       "    </tr>\n",
       "    <tr>\n",
       "      <th>4</th>\n",
       "      <td>Бластер nerf</td>\n",
       "      <td>Состояние 5+/\\nПродаю потому что не нужен/\\n18...</td>\n",
       "      <td>1804706240</td>\n",
       "    </tr>\n",
       "    <tr>\n",
       "      <th>...</th>\n",
       "      <td>...</td>\n",
       "      <td>...</td>\n",
       "      <td>...</td>\n",
       "    </tr>\n",
       "    <tr>\n",
       "      <th>1411343</th>\n",
       "      <td>Бетоносмеситель Россия бсэ-140 чугун</td>\n",
       "      <td>Бетономешалка российского производства - не Ки...</td>\n",
       "      <td>902146704</td>\n",
       "    </tr>\n",
       "    <tr>\n",
       "      <th>1411344</th>\n",
       "      <td>Разношрокие колеса R19 оригинал Porsche Panamera</td>\n",
       "      <td>Диски с резиной в отличном состоянии/\\n /\\nШин...</td>\n",
       "      <td>1799983289</td>\n",
       "    </tr>\n",
       "    <tr>\n",
       "      <th>1411345</th>\n",
       "      <td>Комбенз зимний размер</td>\n",
       "      <td>Комбензон на овчине .Подойдет зима , весна, ос...</td>\n",
       "      <td>1177237748</td>\n",
       "    </tr>\n",
       "    <tr>\n",
       "      <th>1411346</th>\n",
       "      <td>Смартфон Honor 5C</td>\n",
       "      <td>В отличном состоянии. Использовался с защитным...</td>\n",
       "      <td>1793055786</td>\n",
       "    </tr>\n",
       "    <tr>\n",
       "      <th>1411347</th>\n",
       "      <td>Слипоны Ralph Lauren 6.5</td>\n",
       "      <td>Новые без коробки , приехали из сша /\\n6.5 на ...</td>\n",
       "      <td>1109142980</td>\n",
       "    </tr>\n",
       "  </tbody>\n",
       "</table>\n",
       "<p>1411348 rows × 3 columns</p>\n",
       "</div>"
      ],
      "text/plain": [
       "                                                    title  \\\n",
       "0                                                Мастерка   \n",
       "1                                           Зимние сапоги   \n",
       "2                                 Видеонаблюдение 8 камер   \n",
       "3                                        Запчасти для GLE   \n",
       "4                                            Бластер nerf   \n",
       "...                                                   ...   \n",
       "1411343              Бетоносмеситель Россия бсэ-140 чугун   \n",
       "1411344  Разношрокие колеса R19 оригинал Porsche Panamera   \n",
       "1411345                             Комбенз зимний размер   \n",
       "1411346                                 Смартфон Honor 5C   \n",
       "1411347                          Слипоны Ralph Lauren 6.5   \n",
       "\n",
       "                                               description      itemid  \n",
       "0        Мастерка фирмы форвард. Белого цвета. В идеаль...  1778449823  \n",
       "1        Продаю зимние сапоги, в хорошем состоянии, все...  1677656962  \n",
       "2        В комплект Atis AMD-2MIR-8kit входит: /\\n1. Ку...  1758182804  \n",
       "3                                             Запчасти GLE  1689811299  \n",
       "4        Состояние 5+/\\nПродаю потому что не нужен/\\n18...  1804706240  \n",
       "...                                                    ...         ...  \n",
       "1411343  Бетономешалка российского производства - не Ки...   902146704  \n",
       "1411344  Диски с резиной в отличном состоянии/\\n /\\nШин...  1799983289  \n",
       "1411345  Комбензон на овчине .Подойдет зима , весна, ос...  1177237748  \n",
       "1411346  В отличном состоянии. Использовался с защитным...  1793055786  \n",
       "1411347  Новые без коробки , приехали из сша /\\n6.5 на ...  1109142980  \n",
       "\n",
       "[1411348 rows x 3 columns]"
      ]
     },
     "execution_count": 4,
     "metadata": {},
     "output_type": "execute_result"
    }
   ],
   "source": [
    "test"
   ]
  },
  {
   "cell_type": "markdown",
   "metadata": {},
   "source": [
    "## Задание 1 (0.5 балла)\n",
    "\n",
    "Выведете на экран информацию о пропусках в данных. Если пропуски присутствуют заполните их пустой строкой."
   ]
  },
  {
   "cell_type": "code",
   "execution_count": 5,
   "metadata": {
    "scrolled": true
   },
   "outputs": [
    {
     "data": {
      "text/plain": [
       "title            0\n",
       "description      2\n",
       "Category_name    0\n",
       "Category         0\n",
       "dtype: int64"
      ]
     },
     "execution_count": 5,
     "metadata": {},
     "output_type": "execute_result"
    }
   ],
   "source": [
    "train.isna().sum()"
   ]
  },
  {
   "cell_type": "code",
   "execution_count": 6,
   "metadata": {},
   "outputs": [],
   "source": [
    "train.fillna('', inplace=True)"
   ]
  },
  {
   "cell_type": "code",
   "execution_count": 7,
   "metadata": {},
   "outputs": [
    {
     "data": {
      "text/plain": [
       "title            0\n",
       "description      0\n",
       "Category_name    0\n",
       "Category         0\n",
       "dtype: int64"
      ]
     },
     "execution_count": 7,
     "metadata": {},
     "output_type": "execute_result"
    }
   ],
   "source": [
    "train.isna().sum()"
   ]
  },
  {
   "cell_type": "code",
   "execution_count": 8,
   "metadata": {},
   "outputs": [
    {
     "data": {
      "text/plain": [
       "title          0\n",
       "description    1\n",
       "itemid         0\n",
       "dtype: int64"
      ]
     },
     "execution_count": 8,
     "metadata": {},
     "output_type": "execute_result"
    }
   ],
   "source": [
    "test.isna().sum()"
   ]
  },
  {
   "cell_type": "code",
   "execution_count": 9,
   "metadata": {},
   "outputs": [],
   "source": [
    "test.fillna('', inplace=True)"
   ]
  },
  {
   "cell_type": "code",
   "execution_count": 10,
   "metadata": {
    "scrolled": true
   },
   "outputs": [
    {
     "data": {
      "text/plain": [
       "title          0\n",
       "description    0\n",
       "itemid         0\n",
       "dtype: int64"
      ]
     },
     "execution_count": 10,
     "metadata": {},
     "output_type": "execute_result"
    }
   ],
   "source": [
    "test.isna().sum()"
   ]
  },
  {
   "cell_type": "markdown",
   "metadata": {},
   "source": [
    "## Задание 2 (0.5 балла)\n",
    "Сконкатенируйте заголовок и описание в единую строку и поместите результат в отдельный столбец. Таким образом мы будет работать с одним текстом, а не с двумя."
   ]
  },
  {
   "cell_type": "code",
   "execution_count": 12,
   "metadata": {},
   "outputs": [
    {
     "data": {
      "text/html": [
       "<div>\n",
       "<style scoped>\n",
       "    .dataframe tbody tr th:only-of-type {\n",
       "        vertical-align: middle;\n",
       "    }\n",
       "\n",
       "    .dataframe tbody tr th {\n",
       "        vertical-align: top;\n",
       "    }\n",
       "\n",
       "    .dataframe thead th {\n",
       "        text-align: right;\n",
       "    }\n",
       "</style>\n",
       "<table border=\"1\" class=\"dataframe\">\n",
       "  <thead>\n",
       "    <tr style=\"text-align: right;\">\n",
       "      <th></th>\n",
       "      <th>Category_name</th>\n",
       "      <th>Category</th>\n",
       "      <th>title_description</th>\n",
       "    </tr>\n",
       "  </thead>\n",
       "  <tbody>\n",
       "    <tr>\n",
       "      <th>0</th>\n",
       "      <td>Запчасти и аксессуары</td>\n",
       "      <td>10</td>\n",
       "      <td>Эбу Renault / Nissan 1,5 DCI Delphi 2001-2008 ...</td>\n",
       "    </tr>\n",
       "    <tr>\n",
       "      <th>1</th>\n",
       "      <td>Бытовая техника</td>\n",
       "      <td>21</td>\n",
       "      <td>Утюг утп 1000 ватт СССР 1987 год Продам/\\n Фот...</td>\n",
       "    </tr>\n",
       "    <tr>\n",
       "      <th>2</th>\n",
       "      <td>Предложение услуг</td>\n",
       "      <td>114</td>\n",
       "      <td>Возвму машину с выкупом Возьму машину в аренду...</td>\n",
       "    </tr>\n",
       "    <tr>\n",
       "      <th>3</th>\n",
       "      <td>Одежда, обувь, аксессуары</td>\n",
       "      <td>27</td>\n",
       "      <td>Полусапожки полусапожки в отличном состоянии, ...</td>\n",
       "    </tr>\n",
       "    <tr>\n",
       "      <th>4</th>\n",
       "      <td>Одежда, обувь, аксессуары</td>\n",
       "      <td>27</td>\n",
       "      <td>Босоножки кожаные Кожаные(натур) босоножки Kar...</td>\n",
       "    </tr>\n",
       "  </tbody>\n",
       "</table>\n",
       "</div>"
      ],
      "text/plain": [
       "               Category_name  Category  \\\n",
       "0      Запчасти и аксессуары        10   \n",
       "1            Бытовая техника        21   \n",
       "2          Предложение услуг       114   \n",
       "3  Одежда, обувь, аксессуары        27   \n",
       "4  Одежда, обувь, аксессуары        27   \n",
       "\n",
       "                                   title_description  \n",
       "0  Эбу Renault / Nissan 1,5 DCI Delphi 2001-2008 ...  \n",
       "1  Утюг утп 1000 ватт СССР 1987 год Продам/\\n Фот...  \n",
       "2  Возвму машину с выкупом Возьму машину в аренду...  \n",
       "3  Полусапожки полусапожки в отличном состоянии, ...  \n",
       "4  Босоножки кожаные Кожаные(натур) босоножки Kar...  "
      ]
     },
     "execution_count": 12,
     "metadata": {},
     "output_type": "execute_result"
    }
   ],
   "source": [
    "train['title_description'] = train['title'] + ' ' + train['description']\n",
    "train.drop(columns=['title', 'description'], inplace=True)\n",
    "train.head()"
   ]
  },
  {
   "cell_type": "code",
   "execution_count": 13,
   "metadata": {
    "scrolled": true
   },
   "outputs": [
    {
     "data": {
      "text/html": [
       "<div>\n",
       "<style scoped>\n",
       "    .dataframe tbody tr th:only-of-type {\n",
       "        vertical-align: middle;\n",
       "    }\n",
       "\n",
       "    .dataframe tbody tr th {\n",
       "        vertical-align: top;\n",
       "    }\n",
       "\n",
       "    .dataframe thead th {\n",
       "        text-align: right;\n",
       "    }\n",
       "</style>\n",
       "<table border=\"1\" class=\"dataframe\">\n",
       "  <thead>\n",
       "    <tr style=\"text-align: right;\">\n",
       "      <th></th>\n",
       "      <th>itemid</th>\n",
       "      <th>title_description</th>\n",
       "    </tr>\n",
       "  </thead>\n",
       "  <tbody>\n",
       "    <tr>\n",
       "      <th>0</th>\n",
       "      <td>1778449823</td>\n",
       "      <td>Мастерка Мастерка фирмы форвард. Белого цвета....</td>\n",
       "    </tr>\n",
       "    <tr>\n",
       "      <th>1</th>\n",
       "      <td>1677656962</td>\n",
       "      <td>Зимние сапоги Продаю зимние сапоги, в хорошем ...</td>\n",
       "    </tr>\n",
       "    <tr>\n",
       "      <th>2</th>\n",
       "      <td>1758182804</td>\n",
       "      <td>Видеонаблюдение 8 камер В комплект Atis AMD-2M...</td>\n",
       "    </tr>\n",
       "    <tr>\n",
       "      <th>3</th>\n",
       "      <td>1689811299</td>\n",
       "      <td>Запчасти для GLE Запчасти GLE</td>\n",
       "    </tr>\n",
       "    <tr>\n",
       "      <th>4</th>\n",
       "      <td>1804706240</td>\n",
       "      <td>Бластер nerf Состояние 5+/\\nПродаю потому что ...</td>\n",
       "    </tr>\n",
       "  </tbody>\n",
       "</table>\n",
       "</div>"
      ],
      "text/plain": [
       "       itemid                                  title_description\n",
       "0  1778449823  Мастерка Мастерка фирмы форвард. Белого цвета....\n",
       "1  1677656962  Зимние сапоги Продаю зимние сапоги, в хорошем ...\n",
       "2  1758182804  Видеонаблюдение 8 камер В комплект Atis AMD-2M...\n",
       "3  1689811299                      Запчасти для GLE Запчасти GLE\n",
       "4  1804706240  Бластер nerf Состояние 5+/\\nПродаю потому что ..."
      ]
     },
     "execution_count": 13,
     "metadata": {},
     "output_type": "execute_result"
    }
   ],
   "source": [
    "test['title_description'] = test['title'] + ' ' + test['description']\n",
    "test.drop(columns=['title', 'description'], inplace=True)\n",
    "test.head()"
   ]
  },
  {
   "cell_type": "markdown",
   "metadata": {},
   "source": [
    "## Задание 3 (0.5 балла)\n",
    "Давайте немного посмотрим на наши данные. Визуализируйте (где явно просят) или выведете информацию о следующем:\n",
    "\n",
    "1. Сколько всего уникальных классов необходимо предсказать?\n",
    "2. Постройте столбчатую диаграмму распределения по классам. Нормализуйте график, чтобы видеть доли, а не абсолютные значения.\n",
    "3. На сколько большой дисбаланс? Какой класс имеет самую большую долю в выборке (укажите класс и долю), какой класс наименьшую (укажите класс и долю)."
   ]
  },
  {
   "cell_type": "code",
   "execution_count": 14,
   "metadata": {},
   "outputs": [
    {
     "data": {
      "text/plain": [
       "50"
      ]
     },
     "execution_count": 14,
     "metadata": {},
     "output_type": "execute_result"
    }
   ],
   "source": [
    "# 1. Сколько всего уникальных классов необходимо предсказать?\n",
    "unique_count = len(train['Category'].unique())\n",
    "unique_count"
   ]
  },
  {
   "cell_type": "code",
   "execution_count": 15,
   "metadata": {
    "scrolled": true
   },
   "outputs": [
    {
     "data": {
      "text/plain": [
       "array([[<AxesSubplot:title={'center':'Category'}>]], dtype=object)"
      ]
     },
     "execution_count": 15,
     "metadata": {},
     "output_type": "execute_result"
    },
    {
     "data": {
      "image/png": "[encoded data removed]",
      "text/plain": [
       "<Figure size 432x288 with 1 Axes>"
      ]
     },
     "metadata": {
      "needs_background": "light"
     },
     "output_type": "display_data"
    }
   ],
   "source": [
    "# 2. Постройте столбчатую диаграмму распределения по классам. \n",
    "#    Нормализуйте график, чтобы видеть доли, а не абсолютные значения.\n",
    "nbins = train['Category'].max() - train['Category'].min() + 1\n",
    "train.hist(density=True, bins=nbins)"
   ]
  },
  {
   "cell_type": "code",
   "execution_count": 16,
   "metadata": {
    "scrolled": true
   },
   "outputs": [
    {
     "data": {
      "text/plain": [
       "27     0.180707\n",
       "10     0.174939\n",
       "29     0.136394\n",
       "30     0.048775\n",
       "20     0.037018\n",
       "24     0.033593\n",
       "19     0.032756\n",
       "9      0.029706\n",
       "114    0.028378\n",
       "84     0.026850\n",
       "36     0.023761\n",
       "39     0.020163\n",
       "32     0.019681\n",
       "88     0.017110\n",
       "21     0.016754\n",
       "101    0.016079\n",
       "83     0.013948\n",
       "28     0.013918\n",
       "25     0.011392\n",
       "87     0.010047\n",
       "40     0.007590\n",
       "111    0.006403\n",
       "26     0.006381\n",
       "97     0.006217\n",
       "105    0.005854\n",
       "106    0.005459\n",
       "42     0.005179\n",
       "34     0.004603\n",
       "99     0.004599\n",
       "98     0.004359\n",
       "38     0.004138\n",
       "81     0.004055\n",
       "82     0.004012\n",
       "90     0.003647\n",
       "31     0.003524\n",
       "89     0.003239\n",
       "96     0.003236\n",
       "85     0.003148\n",
       "94     0.003136\n",
       "112    0.003082\n",
       "102    0.002874\n",
       "93     0.002805\n",
       "14     0.002798\n",
       "23     0.002758\n",
       "92     0.001235\n",
       "11     0.001152\n",
       "116    0.000974\n",
       "91     0.000854\n",
       "33     0.000682\n",
       "86     0.000039\n",
       "Name: Category, dtype: float64"
      ]
     },
     "execution_count": 16,
     "metadata": {},
     "output_type": "execute_result"
    }
   ],
   "source": [
    "category_count = train['Category'].value_counts(normalize=True)\n",
    "category_count"
   ]
  },
  {
   "cell_type": "code",
   "execution_count": 17,
   "metadata": {},
   "outputs": [
    {
     "data": {
      "text/plain": [
       "'Одежда, обувь, аксессуары'"
      ]
     },
     "execution_count": 17,
     "metadata": {},
     "output_type": "execute_result"
    }
   ],
   "source": [
    "# Самая популярная категория (0.180707 от всех объявлений)\n",
    "train[train.Category == 27].Category_name.unique()[0]"
   ]
  },
  {
   "cell_type": "code",
   "execution_count": 18,
   "metadata": {},
   "outputs": [
    {
     "data": {
      "text/plain": [
       "'Недвижимость за рубежом'"
      ]
     },
     "execution_count": 18,
     "metadata": {},
     "output_type": "execute_result"
    }
   ],
   "source": [
    "# Самая непопулярная категория (0.000039 от всех объявлений)\n",
    "train[train.Category == 86].Category_name.unique()[0]"
   ]
  },
  {
   "cell_type": "code",
   "execution_count": 19,
   "metadata": {},
   "outputs": [
    {
     "data": {
      "text/plain": [
       "(765120, 165)"
      ]
     },
     "execution_count": 19,
     "metadata": {},
     "output_type": "execute_result"
    }
   ],
   "source": [
    "# Дисбаланс немаленький: объявлений про одежду почти мильон (765120), а объявлений о недвижимости за рубежом всего 165.\n",
    "len(train[train.Category == 27]), len(train[train.Category == 86])"
   ]
  },
  {
   "cell_type": "markdown",
   "metadata": {},
   "source": [
    "## Задание 4 (0.5 балла)\n",
    "\n",
    "Далее мы будем пока работать только с train частью. Для test части нам неизвестны истинные значения, и они понадобятся только тогда, когда мы будем отправлять решение на Kaggle.\n",
    "\n",
    "1. Предобработайте данные (train часть) с помощью CountVectorizer.\n",
    "2. Какого размера получилась матрица?\n"
   ]
  },
  {
   "cell_type": "code",
   "execution_count": 20,
   "metadata": {},
   "outputs": [],
   "source": [
    "from sklearn.feature_extraction.text import CountVectorizer"
   ]
  },
  {
   "cell_type": "code",
   "execution_count": 21,
   "metadata": {},
   "outputs": [
    {
     "data": {
      "text/plain": [
       "(4234042, 2125805)"
      ]
     },
     "execution_count": 21,
     "metadata": {},
     "output_type": "execute_result"
    }
   ],
   "source": [
    "count_vectorizer = CountVectorizer()\n",
    "X = count_vectorizer.fit_transform(train['title_description'])\n",
    "X.shape"
   ]
  },
  {
   "cell_type": "code",
   "execution_count": 22,
   "metadata": {},
   "outputs": [
    {
     "data": {
      "text/plain": [
       "<4234042x2125805 sparse matrix of type '<class 'numpy.int64'>'\n",
       "\twith 150918485 stored elements in Compressed Sparse Row format>"
      ]
     },
     "execution_count": 22,
     "metadata": {},
     "output_type": "execute_result"
    }
   ],
   "source": [
    "X"
   ]
  },
  {
   "cell_type": "markdown",
   "metadata": {},
   "source": [
    "## Задание 5 (0.5 балла)\n",
    "\n",
    "В предыдущем пункте у вас должная была получится очень большая матрица. Это не дело.\n",
    "Если вы взгляните на текст, то увидете, что там есть множество специальных символов.\n",
    "\n",
    "Давайте также посмотрим на словарь, который получился в результате построения CountVectorizer, его можно найти в поле vocabulary_ инстанса этого класса.\n",
    "\n",
    "1. Найдите в этом словаре все слова, которые начинаются на цифру. Сколько таких слов нашлось?\n",
    "\n",
    "2. Найдите все слова, которые начинаются на символы пунктуации. Сколько таких слов нашлось? "
   ]
  },
  {
   "cell_type": "code",
   "execution_count": 23,
   "metadata": {},
   "outputs": [
    {
     "data": {
      "text/plain": [
       "{'эбу': 2102181,\n",
       " 'renault': 983123,\n",
       " 'nissan': 927024,\n",
       " 'dci': 737115,\n",
       " 'delphi': 739000,\n",
       " '2001': 195290,\n",
       " '2008': 196213,\n",
       " 'год': 1283579,\n",
       " 'комплект': 1460484,\n",
       " 'мозги': 1561351,\n",
       " 'компьютер': 1461631,\n",
       " 'мотора': 1567810,\n",
       " 'двигателя': 1304989,\n",
       " 'коммутатор': 1459320,\n",
       " 'электронный': 2110684,\n",
       " 'блок': 1184431,\n",
       " 'управления': 2017492,\n",
       " 'двигателем': 1304848,\n",
       " 'для': 1326654,\n",
       " 'рено': 1849725,\n",
       " 'kangoo': 849076,\n",
       " 'канго': 1426970,\n",
       " 'кангу': 1426974,\n",
       " 'меган': 1538330,\n",
       " 'сценик': 1955314,\n",
       " 'laguna': 865566,\n",
       " 'лагуна': 1495469,\n",
       " 'clio': 710171,\n",
       " 'клио': 1448531,\n",
       " 'micra': 903322,\n",
       " 'ниссан': 1615698,\n",
       " 'микра': 1549020,\n",
       " 'другие': 1339133,\n",
       " 'дизель': 1321639,\n",
       " 'топливной': 1985249,\n",
       " 'аппаратурой': 1146767,\n",
       " 'делфи': 1312072,\n",
       " 'оригинал': 1654498,\n",
       " 'отличное': 1666865,\n",
       " 'состояние': 1923762,\n",
       " 'проверенные': 1791865,\n",
       " 'гарантией': 1270215,\n",
       " 'на': 1579785,\n",
       " 'все': 1246492,\n",
       " 'запчасти': 1375254,\n",
       " 'предоставляется': 1774252,\n",
       " 'гарантия': 1270367,\n",
       " 'возможна': 1238061,\n",
       " 'установка': 2021294,\n",
       " 'более': 1187616,\n",
       " 'подробно': 1737939,\n",
       " 'разделе': 1826885,\n",
       " 'компании': 1459976,\n",
       " 'мы': 1574547,\n",
       " 'дорожим': 1334952,\n",
       " 'своей': 1885275,\n",
       " 'репутацией': 1850416,\n",
       " 'торгуем': 1986034,\n",
       " 'только': 1983678,\n",
       " 'легальными': 1500193,\n",
       " 'контрактными': 1465738,\n",
       " 'запчастями': 1375301,\n",
       " 'детали': 1315640,\n",
       " 'наличии': 1587273,\n",
       " 'таможенные': 1964704,\n",
       " 'документы': 1331148,\n",
       " 'от': 1660638,\n",
       " 'автомобилей': 1124852,\n",
       " 'без': 1169920,\n",
       " 'пробега': 1790816,\n",
       " 'по': 1725153,\n",
       " 'россии': 1859489,\n",
       " 'отправляем': 1669073,\n",
       " 'регионы': 1844510,\n",
       " 'таможенного': 1964697,\n",
       " 'союза': 1925800,\n",
       " 'транспортной': 1990125,\n",
       " 'компанией': 1459966,\n",
       " 'или': 1399553,\n",
       " 'наложным': 1587556,\n",
       " 'платежом': 1720056,\n",
       " 'утюг': 2024524,\n",
       " 'утп': 2024259,\n",
       " '1000': 70089,\n",
       " 'ватт': 1211345,\n",
       " 'ссср': 1933927,\n",
       " '1987': 178367,\n",
       " 'продам': 1794136,\n",
       " 'фото': 2041426,\n",
       " '350': 303775,\n",
       " 'руб': 1861574,\n",
       " 'рабочем': 1821738,\n",
       " 'состоянии': 1923820,\n",
       " 'delta': 739019,\n",
       " 'dl': 744153,\n",
       " '405': 337771,\n",
       " '450': 362113,\n",
       " 'ус': 2019175,\n",
       " 'личная': 1509045,\n",
       " 'встреча': 1248522,\n",
       " 'отправлю': 1669065,\n",
       " 'почте': 1767588,\n",
       " '10': 70087,\n",
       " 'возвму': 1236931,\n",
       " 'машину': 1536480,\n",
       " 'выкупом': 1255290,\n",
       " 'возьму': 1238703,\n",
       " 'аренду': 1148453,\n",
       " 'последующим': 1761744,\n",
       " 'недорогую': 1599566,\n",
       " 'кого': 1451895,\n",
       " 'есть': 1350134,\n",
       " 'возможность': 1238135,\n",
       " 'задать': 1364256,\n",
       " 'пишите': 1717341,\n",
       " 'сюда': 1957649,\n",
       " 'звонок': 1382891,\n",
       " 'могу': 1559948,\n",
       " 'не': 1596296,\n",
       " 'услышать': 2020227,\n",
       " 'полусапожки': 1752911,\n",
       " 'отличном': 1666890,\n",
       " 'один': 1640613,\n",
       " 'раз': 1823902,\n",
       " 'одеваны': 1640163,\n",
       " 'натуральный': 1594036,\n",
       " 'мех': 1546993,\n",
       " 'велюр': 1215897,\n",
       " 'кожа': 1452326,\n",
       " 'босоножки': 1190693,\n",
       " 'кожаные': 1452430,\n",
       " 'натур': 1593848,\n",
       " 'karlo': 849486,\n",
       " 'pasolini': 949606,\n",
       " '40': 333758,\n",
       " 'рр': 1861020,\n",
       " 'раза': 1824000,\n",
       " 'идеальном': 1393326,\n",
       " 'комбинезон': 1457974,\n",
       " 'одет': 1640462,\n",
       " 'сандали': 1876658,\n",
       " 'котофей': 1474340,\n",
       " 'фирма': 2035896,\n",
       " 'первые': 1700980,\n",
       " 'шаги': 2083445,\n",
       " 'размер': 1828329,\n",
       " '20': 190756,\n",
       " 'свитер': 1884789,\n",
       " 'продаю': 1794307,\n",
       " 'идеально': 1393308,\n",
       " 'фирмы': 2036085,\n",
       " 'benetton': 676605,\n",
       " '42': 346349,\n",
       " '44': 356782,\n",
       " 'жакет': 1351431,\n",
       " 'женский': 1353587,\n",
       " 'новый': 1619231,\n",
       " 'биркой': 1181481,\n",
       " 'торг': 1985818,\n",
       " 'уместен': 2014394,\n",
       " 'просьба': 1804079,\n",
       " 'звонить': 1382816,\n",
       " 'вечером': 1220371,\n",
       " 'смс': 1912615,\n",
       " 'любое': 1515478,\n",
       " 'время': 1245865,\n",
       " 'стойка': 1942872,\n",
       " 'передняя': 1703286,\n",
       " 'правая': 1770685,\n",
       " 'opel': 936756,\n",
       " 'corsa': 715427,\n",
       " 'амортизатора': 1140145,\n",
       " '2000': 190758,\n",
       " '2006': 195964,\n",
       " 'сборе': 1879946,\n",
       " 'пружиной': 1809344,\n",
       " 'опорным': 1651228,\n",
       " 'подшипником': 1741144,\n",
       " 'бу': 1196646,\n",
       " 'bilstein': 679467,\n",
       " 'артикул': 1150875,\n",
       " '27808641': 255731,\n",
       " 'даем': 1301472,\n",
       " 'гарантию': 1270361,\n",
       " '14': 124879,\n",
       " 'дней': 1327141,\n",
       " 'даты': 1303539,\n",
       " 'получения': 1753574,\n",
       " 'забрать': 1360564,\n",
       " 'запчасть': 1375285,\n",
       " 'самовывозом': 1874441,\n",
       " 'можно': 1561235,\n",
       " 'до': 1327338,\n",
       " 'выходных': 1262415,\n",
       " 'предварительно': 1773074,\n",
       " 'звоните': 1382791,\n",
       " 'города': 1287070,\n",
       " 'предварительной': 1773078,\n",
       " 'оплате': 1650686,\n",
       " 'карту': 1432867,\n",
       " 'сбербанка': 1879657,\n",
       " 'любым': 1515629,\n",
       " 'другим': 1339149,\n",
       " 'способом': 1930876,\n",
       " 'доставка': 1335525,\n",
       " 'тк': 1980971,\n",
       " 'сдэк': 1887489,\n",
       " 'байкал': 1162014,\n",
       " 'сервис': 1892358,\n",
       " 'энергия': 2114839,\n",
       " 'пэк': 1815913,\n",
       " 'деловые': 1312010,\n",
       " 'линии': 1506651,\n",
       " '500': 392440,\n",
       " 'вопросы': 1241244,\n",
       " 'через': 2074762,\n",
       " 'чат': 2072897,\n",
       " 'авито': 1121774,\n",
       " 'отвечаем': 1662756,\n",
       " 'быстро': 1201416,\n",
       " '00': 0,\n",
       " '30': 274556,\n",
       " 'ежедневно': 1347287,\n",
       " 'свой': 1885342,\n",
       " 'автосервис': 1126414,\n",
       " 'сапоги': 1877766,\n",
       " 'paolo': 948856,\n",
       " 'conte': 714222,\n",
       " 'надеты': 1583283,\n",
       " 'пару': 1694168,\n",
       " 'изначально': 1397062,\n",
       " 'стоили': 1942681,\n",
       " 'разы': 1832182,\n",
       " 'дороже': 1334935,\n",
       " '39': 321213,\n",
       " 'маломерят': 1526973,\n",
       " 'юбка': 2119409,\n",
       " 'джинсовая': 1318561,\n",
       " 'хорошем': 2058483,\n",
       " 'отправляю': 1669106,\n",
       " 'почтой': 1767653,\n",
       " 'кулак': 1488649,\n",
       " 'поворотный': 1727621,\n",
       " 'задний': 1364795,\n",
       " 'правый': 1771245,\n",
       " 'teana': 1040983,\n",
       " 'j32': 837586,\n",
       " 'qr25de': 973613,\n",
       " '2012': 197968,\n",
       " 'марка': 1530914,\n",
       " 'модель': 1560240,\n",
       " 'кузов': 1488031,\n",
       " 'двигатель': 1304866,\n",
       " 'маркировка': 1531161,\n",
       " 'номера': 1620248,\n",
       " '43018jn00a': 351919,\n",
       " 'теана': 1968614,\n",
       " 'товара': 1982028,\n",
       " '3744': 314908,\n",
       " 'распространяется': 1837513,\n",
       " 'претензии': 1778233,\n",
       " 'несоответствию': 1610386,\n",
       " 'неработоспособности': 1608453,\n",
       " 'принимаются': 1785345,\n",
       " 'если': 1349913,\n",
       " 'деталь': 1315706,\n",
       " 'является': 2121776,\n",
       " 'негарантийной': 1598424,\n",
       " 'электрооборудование': 2110758,\n",
       " 'истек': 1412051,\n",
       " 'гарантийный': 1270263,\n",
       " 'срок': 1933349,\n",
       " 'покупатель': 1745919,\n",
       " 'самостоятельно': 1876005,\n",
       " 'согласования': 1917545,\n",
       " 'продавцом': 1793941,\n",
       " 'нарушит': 1591503,\n",
       " 'маркировку': 1531206,\n",
       " 'пломбы': 1722747,\n",
       " 'bmw': 683223,\n",
       " 'x1': 1090173,\n",
       " '2019': 198804,\n",
       " 'официальный': 1673894,\n",
       " 'дилер': 1322152,\n",
       " 'вашим': 1211763,\n",
       " 'услугам': 2020177,\n",
       " 'набирающий': 1580675,\n",
       " 'рост': 1859730,\n",
       " 'дилерский': 1322175,\n",
       " 'центр': 2067050,\n",
       " 'рольф': 1858398,\n",
       " 'премиум': 1776710,\n",
       " 'работает': 1821292,\n",
       " 'каждый': 1422075,\n",
       " 'день': 1313733,\n",
       " 'чтобы': 2080619,\n",
       " 'удовлетворить': 2009111,\n",
       " 'потребности': 1765698,\n",
       " 'поклонников': 1744701,\n",
       " 'мира': 1554271,\n",
       " 'химки': 2054011,\n",
       " 'это': 2118310,\n",
       " 'нового': 1617592,\n",
       " 'поколения': 1744853,\n",
       " 'всегда': 1246614,\n",
       " 'честный': 2076631,\n",
       " 'диалог': 1320291,\n",
       " 'прозрачные': 1796506,\n",
       " 'условия': 2020082,\n",
       " 'при': 1778546,\n",
       " 'выборе': 1251645,\n",
       " 'обслуживании': 1633911,\n",
       " 'автомобиля': 1124978,\n",
       " 'открытость': 1666229,\n",
       " 'небезразличие': 1596807,\n",
       " 'каждого': 1422028,\n",
       " 'сотрудника': 1924520,\n",
       " 'запросам': 1374866,\n",
       " 'общения': 1635641,\n",
       " 'первым': 1700989,\n",
       " 'лицом': 1508963,\n",
       " 'дилерского': 1322179,\n",
       " 'центра': 2067077,\n",
       " 'идеология': 1393560,\n",
       " 'работы': 1821612,\n",
       " 'нашей': 1595713,\n",
       " 'команды': 1457520,\n",
       " 'люди': 1515742,\n",
       " 'доверяют': 1329103,\n",
       " 'людям': 1515819,\n",
       " 'наш': 1595673,\n",
       " 'автосалон': 1126349,\n",
       " 'соответствует': 1921366,\n",
       " 'новейшим': 1617159,\n",
       " 'стандартам': 1936058,\n",
       " 'russland': 991789,\n",
       " 'trading': 1050065,\n",
       " 'способен': 1930832,\n",
       " 'предложить': 1773682,\n",
       " 'своим': 1885332,\n",
       " 'клиентам': 1447889,\n",
       " 'обслуживание': 1633901,\n",
       " 'наивысшего': 1584939,\n",
       " 'класса': 1446539,\n",
       " 'комфорт': 1462201,\n",
       " 'во': 1233928,\n",
       " 'всем': 1246810,\n",
       " 'начиная': 1595510,\n",
       " 'зоны': 1388761,\n",
       " 'ожидания': 1643282,\n",
       " 'рестораном': 1851192,\n",
       " 'вкуснейшими': 1229801,\n",
       " 'блюдами': 1185143,\n",
       " 'заканчивая': 1366868,\n",
       " 'процессом': 1807822,\n",
       " 'оплаты': 1650708,\n",
       " 'любой': 1515512,\n",
       " 'форме': 2040388,\n",
       " 'очередей': 1675772,\n",
       " 'долгого': 1331490,\n",
       " 'индивидуальный': 1402809,\n",
       " 'подход': 1740632,\n",
       " 'качество': 1436242,\n",
       " 'даже': 1301499,\n",
       " 'малозначащих': 1526759,\n",
       " 'первый': 1700985,\n",
       " 'взгляд': 1221360,\n",
       " 'деталей': 1315631,\n",
       " 'комплектация': 1460566,\n",
       " 'xdrive18d': 1093891,\n",
       " 'sport': 1020485,\n",
       " 'предложение': 1773632,\n",
       " 'обновлено': 1630587,\n",
       " '29': 261984,\n",
       " 'сентября': 1891817,\n",
       " '2019г': 198884,\n",
       " '05': 52968,\n",
       " '59': 443730,\n",
       " 'мин': 1551984,\n",
       " 'стандарт': 1936041,\n",
       " 'ue5': 1059542,\n",
       " 'увеличенный': 2005418,\n",
       " 'объем': 1636383,\n",
       " 'бензобака': 1174741,\n",
       " 'выбор': 1251615,\n",
       " 'важного': 1207418,\n",
       " 'сор': 1922060,\n",
       " 'ступенчатая': 1948651,\n",
       " 'автоматическая': 1124654,\n",
       " 'коробка': 1469979,\n",
       " 'передач': 1702767,\n",
       " 'спортивной': 1930457,\n",
       " 'настройки': 1593059,\n",
       " 'подвески': 1730953,\n",
       " 'обогрев': 1630959,\n",
       " 'рулевого': 1863245,\n",
       " 'колеса': 1454404,\n",
       " 'мультифункция': 1572478,\n",
       " 'безопасные': 1171517,\n",
       " 'шины': 2090102,\n",
       " 'runflat': 991530,\n",
       " 'система': 1899746,\n",
       " 'performance': 953742,\n",
       " 'control': 714504,\n",
       " 'пакет': 1688644,\n",
       " 'внешних': 1232871,\n",
       " 'обогреваемых': 1630980,\n",
       " 'складывающихся': 1903204,\n",
       " 'зеркал': 1385261,\n",
       " 'электроприводом': 2111161,\n",
       " 'автоматический': 1124664,\n",
       " 'привод': 1780219,\n",
       " 'крышки': 1485711,\n",
       " 'багажника': 1161178,\n",
       " 'спорт': 1930270,\n",
       " 'камера': 1425413,\n",
       " 'заднего': 1364720,\n",
       " 'вида': 1223290,\n",
       " 'направляющие': 1589994,\n",
       " 'крыше': 1485660,\n",
       " 'глянцевый': 1282603,\n",
       " 'черный': 2075970,\n",
       " 'индивидуал': 1402742,\n",
       " 'знак': 1387476,\n",
       " 'аварийной': 1121031,\n",
       " 'остановки': 1659269,\n",
       " 'аптечка': 1147163,\n",
       " 'курильщика': 1490936,\n",
       " 'передний': 1703223,\n",
       " 'откидной': 1665258,\n",
       " 'подлокотник': 1735036,\n",
       " 'спортивные': 1930468,\n",
       " 'сиденья': 1896118,\n",
       " 'водителя': 1234673,\n",
       " 'переднего': 1703148,\n",
       " 'пассажира': 1694863,\n",
       " 'дополнительные': 1334024,\n",
       " 'приспособления': 1787560,\n",
       " 'размещения': 1829134,\n",
       " 'вещей': 1220643,\n",
       " 'салоне': 1873419,\n",
       " 'подогрев': 1736107,\n",
       " 'передних': 1703254,\n",
       " 'сидений': 1896071,\n",
       " 'декоративные': 1311314,\n",
       " 'планки': 1719128,\n",
       " 'aluminium': 647444,\n",
       " 'hexagon': 817326,\n",
       " 'акцентными': 1135273,\n",
       " 'вставками': 1248108,\n",
       " 'цвета': 2064488,\n",
       " 'синий': 1898464,\n",
       " 'матовый': 1534982,\n",
       " 'сигнализация': 1895814,\n",
       " 'аварийного': 1121029,\n",
       " 'сближения': 1879851,\n",
       " 'парковке': 1692947,\n",
       " 'спереди': 1927449,\n",
       " 'сзади': 1895048,\n",
       " 'контроль': 1466036,\n",
       " 'климата': 1448103,\n",
       " 'динамический': 1322767,\n",
       " 'круиз': 1484416,\n",
       " 'спидометр': 1928528,\n",
       " 'обозначением': 1631354,\n",
       " 'километров': 1442493,\n",
       " 'светильников': 1883001,\n",
       " 'светодиодные': 1883444,\n",
       " 'фары': 2030697,\n",
       " 'головного': 1284568,\n",
       " 'света': 1882900,\n",
       " 'расширенным': 1841463,\n",
       " 'функционалом': 2046379,\n",
       " 'ассистент': 1153061,\n",
       " 'парковки': 1692948,\n",
       " 'аудиосистема': 1155856,\n",
       " 'hi': 818316,\n",
       " 'fi': 781532,\n",
       " 'teleservices': 1041714,\n",
       " 'функция': 2046470,\n",
       " 'интеллектуального': 1405633,\n",
       " 'экстренного': 2107067,\n",
       " 'вызова': 1254257,\n",
       " 'русский': 1864093,\n",
       " 'язык': 2122382,\n",
       " 'региональный': 1844471,\n",
       " 'код': 1452001,\n",
       " 'dvd': 751893,\n",
       " 'кожаное': 1452416,\n",
       " 'рулевое': 1863246,\n",
       " 'колесо': 1454568,\n",
       " 'типа': 1979825,\n",
       " 'аэродинамический': 1158096,\n",
       " 'внешний': 1232854,\n",
       " 'дизайн': 1321474,\n",
       " 'индивидуальная': 1402782,\n",
       " 'обивка': 1628131,\n",
       " 'потолка': 1765209,\n",
       " 'салона': 1873406,\n",
       " 'антрацит': 1145540,\n",
       " 'repair': 983348,\n",
       " 'inclusive': 831397,\n",
       " 'исполнение': 1410735,\n",
       " 'стран': 1944953,\n",
       " 'холодным': 2057423,\n",
       " 'климатом': 1448161,\n",
       " 'сервисная': 1892406,\n",
       " 'книжка': 1450188,\n",
       " 'интервал': 1405838,\n",
       " 'замены': 1370314,\n",
       " 'масла': 1532639,\n",
       " '15': 134656,\n",
       " '000': 1,\n",
       " 'км': 1449756,\n",
       " '18': 164311,\n",
       " 'мес': 1544109,\n",
       " 'специфическая': 1927913,\n",
       " 'опция': 1652936,\n",
       " 'закрывание': 1368569,\n",
       " 'центрального': 2067175,\n",
       " 'замка': 1370885,\n",
       " 'начале': 1595245,\n",
       " 'движения': 1305236,\n",
       " 'страны': 1945104,\n",
       " 'плохим': 1723237,\n",
       " 'дорожным': 1335017,\n",
       " 'покрытием': 1745580,\n",
       " 'автомаляр': 1124482,\n",
       " 'автомаляром': 1124497,\n",
       " 'работаю': 1821382,\n",
       " 'очень': 1675707,\n",
       " 'давно': 1301223,\n",
       " 'делаю': 1311702,\n",
       " 'среднюю': 1933040,\n",
       " 'жестянку': 1354135,\n",
       " 'подготавливаю': 1731864,\n",
       " 'крашу': 1479272,\n",
       " 'переход': 1709104,\n",
       " 'полирую': 1748247,\n",
       " 'крупную': 1484828,\n",
       " 'арматурку': 1149204,\n",
       " 'разбираю': 1824351,\n",
       " 'собираю': 1915781,\n",
       " 'интересна': 1405957,\n",
       " 'работа': 1821241,\n",
       " 'оплатой': 1650706,\n",
       " 'факту': 2029167,\n",
       " 'сдачи': 1886825,\n",
       " 'машины': 1536493,\n",
       " 'самбовка': 1874028,\n",
       " 'продаётся': 1794424,\n",
       " 'форма': 2040184,\n",
       " 'самбо': 1874026,\n",
       " 'носили': 1621273,\n",
       " 'месяц': 1544600,\n",
       " 'покупали': 1745850,\n",
       " 'за': 1359121,\n",
       " '4000': 333760,\n",
       " 'продадим': 1793962,\n",
       " 'чехлы': 2077860,\n",
       " 'из': 1394159,\n",
       " 'экокожи': 2104473,\n",
       " 'toyota': 1049110,\n",
       " 'prado': 963143,\n",
       " '150': 134657,\n",
       " 'автопилот': 1125544,\n",
       " 'модельные': 1560436,\n",
       " 'авточехлы': 1127211,\n",
       " 'тойота': 1982476,\n",
       " 'прадо': 1771376,\n",
       " 'шьются': 2099673,\n",
       " 'оригинальным': 1654709,\n",
       " 'лекалам': 1501671,\n",
       " 'учетом': 2026077,\n",
       " 'всех': 1247198,\n",
       " 'технических': 1977954,\n",
       " 'отверстий': 1662435,\n",
       " 'анатомии': 1141248,\n",
       " 'конструкция': 1464956,\n",
       " 'чехлов': 2077846,\n",
       " 'препятствует': 1777479,\n",
       " 'срабатыванию': 1932149,\n",
       " 'подушек': 1740480,\n",
       " 'безопасности': 1171456,\n",
       " 'air': 643636,\n",
       " 'bag': 671344,\n",
       " 'совместимость': 1916994,\n",
       " 'landcruiser': 866041,\n",
       " '2010': 197600,\n",
       " '2017г': 198644,\n",
       " 'джип': 1318706,\n",
       " 'спектр': 1927288,\n",
       " 'услуг': 2020170,\n",
       " 'заказе': 1366587,\n",
       " 'москве': 1566341,\n",
       " 'бесплатно': 1176996,\n",
       " 'всей': 1246747,\n",
       " 'дня': 1327327,\n",
       " 'предоплат': 1774119,\n",
       " 'выездная': 1253840,\n",
       " '60': 454980,\n",
       " 'минут': 1553982,\n",
       " 'возле': 1237877,\n",
       " 'дома': 1332242,\n",
       " 'офиса': 1673681,\n",
       " 'пределами': 1773274,\n",
       " 'мкад': 1555936,\n",
       " 'других': 1339158,\n",
       " 'городах': 1287087,\n",
       " 'список': 1929288,\n",
       " 'городов': 1287169,\n",
       " 'уточняйте': 2024214,\n",
       " 'менеджера': 1542646,\n",
       " 'характеристики': 2051178,\n",
       " 'тыльные': 2001375,\n",
       " 'боковые': 1187259,\n",
       " 'части': 2072548,\n",
       " 'сделаны': 1887130,\n",
       " 'гладкой': 1280565,\n",
       " 'центральная': 2067159,\n",
       " 'часть': 2072826,\n",
       " 'перфорированной': 1710899,\n",
       " 'толщина': 1983590,\n",
       " 'мм': 1556387,\n",
       " 'года': 1283628,\n",
       " 'средний': 1933007,\n",
       " 'службы': 1909332,\n",
       " 'лет': 1503918,\n",
       " '25': 239399,\n",
       " 'расцветок': 1840936,\n",
       " 'цикл': 2068389,\n",
       " 'стирания': 1942091,\n",
       " 'свыше': 1885650,\n",
       " '40000': 333761,\n",
       " 'страна': 1944955,\n",
       " 'производитель': 1797018,\n",
       " 'россия': 1859588,\n",
       " 'гусь': 1297224,\n",
       " 'хрустальный': 2060446,\n",
       " 'товар': 1982023,\n",
       " 'сертифицирован': 1893883,\n",
       " 'нужны': 1623077,\n",
       " 'другой': 1339190,\n",
       " 'автомобиль': 1124908,\n",
       " 'нам': 1587654,\n",
       " 'what': 1084959,\n",
       " 'ap': 651047,\n",
       " 'viber': 1071346,\n",
       " 'telegram': 1041658,\n",
       " 'менеджер': 1542642,\n",
       " 'поможет': 1755671,\n",
       " 'подобрать': 1735990,\n",
       " 'вашего': 1211730,\n",
       " 'железного': 1352783,\n",
       " 'друга': 1339121,\n",
       " 'конца': 1466670,\n",
       " 'недели': 1599010,\n",
       " 'акция': 1135347,\n",
       " 'оплетка': 1650836,\n",
       " 'руль': 1863405,\n",
       " 'подушка': 1740507,\n",
       " 'под': 1729491,\n",
       " 'шею': 2088963,\n",
       " 'ваш': 1211696,\n",
       " 'подарок': 1729999,\n",
       " 'котята': 1474577,\n",
       " 'мейн': 1541033,\n",
       " 'кун': 1489474,\n",
       " 'котят': 1474575,\n",
       " 'чистокровных': 2079363,\n",
       " 'родителей': 1856419,\n",
       " 'две': 1304366,\n",
       " 'девочки': 1309399,\n",
       " 'солид': 1919581,\n",
       " 'серебром': 1892981,\n",
       " 'красивые': 1477564,\n",
       " 'ушки': 2026674,\n",
       " 'большие': 1188751,\n",
       " 'кисточками': 1444871,\n",
       " 'активные': 1134606,\n",
       " 'игривые': 1392380,\n",
       " 'лотку': 1512152,\n",
       " 'когтеточке': 1451963,\n",
       " 'приучены': 1789129,\n",
       " 'кушают': 1492822,\n",
       " 'сами': 1874097,\n",
       " 'возраст': 1238473,\n",
       " 'месяца': 1544613,\n",
       " 'последних': 1761640,\n",
       " 'папа': 1691361,\n",
       " 'мама': 1528145,\n",
       " 'kia': 853248,\n",
       " 'optima': 937095,\n",
       " 'тяга': 2002547,\n",
       " 'наконечник': 1586478,\n",
       " 'блузка': 1184946,\n",
       " 'короткий': 1470686,\n",
       " 'рукав': 1862595,\n",
       " '46': 367622,\n",
       " '48': 374913,\n",
       " 'хорошее': 2058457,\n",
       " 'городу': 1287203,\n",
       " '200': 190757,\n",
       " 'туфли': 2000724,\n",
       " 'женские': 1353563,\n",
       " 'каблуке': 1421101,\n",
       " 'набор': 1580851,\n",
       " 'детскую': 1316274,\n",
       " 'кроватку': 1482101,\n",
       " 'бортиками': 1190356,\n",
       " 'качественные': 1436186,\n",
       " 'наборчики': 1580922,\n",
       " 'цена': 2066384,\n",
       " 'ниже': 1613834,\n",
       " 'рыночной': 1865615,\n",
       " 'стоимости': 1942731,\n",
       " 'счёт': 1955979,\n",
       " 'прямых': 1810145,\n",
       " 'поставок': 1762669,\n",
       " 'иваново': 1391360,\n",
       " 'производство': 1797363,\n",
       " 'заказ': 1366518,\n",
       " 'включает': 1229321,\n",
       " 'себя': 1887791,\n",
       " 'бортики': 1190361,\n",
       " 'всему': 1246866,\n",
       " 'периметру': 1709653,\n",
       " 'подушку': 1740551,\n",
       " 'одеялко': 1640524,\n",
       " 'наволочку': 1581760,\n",
       " 'простынь': 1803858,\n",
       " 'пододеяльник': 1736265,\n",
       " 'балдахин': 1163242,\n",
       " 'желанию': 1352587,\n",
       " '100': 70088,\n",
       " 'хлопок': 2055229,\n",
       " 'наполнитель': 1589558,\n",
       " 'гипоаллергенное': 1279061,\n",
       " 'волокно': 1239882,\n",
       " 'стоимость': 1942745,\n",
       " '3000': 274558,\n",
       " 'люкс': 1515877,\n",
       " 'сообщения': 1921071,\n",
       " 'скину': 1902681,\n",
       " 'то': 1981688,\n",
       " 'что': 2080613,\n",
       " 'наличию': 1587340,\n",
       " 'варианты': 1210163,\n",
       " 'новая': 1616981,\n",
       " 'шлейка': 2092775,\n",
       " 'поводком': 1727359,\n",
       " 'удобная': 2008837,\n",
       " 'цвет': 2064442,\n",
       " 'розовый': 1857582,\n",
       " 'подойдет': 1736389,\n",
       " 'некрупной': 1602691,\n",
       " 'кошки': 1475653,\n",
       " 'кг': 1438755,\n",
       " 'небольшой': 1597052,\n",
       " 'собачки': 1915569,\n",
       " 'объемом': 1636491,\n",
       " 'грудной': 1293563,\n",
       " 'клетки': 1447565,\n",
       " '35': 303774,\n",
       " 'см': 1909871,\n",
       " 'копии': 1467642,\n",
       " '1866': 169619,\n",
       " '1880': 170419,\n",
       " 'царская': 2063133,\n",
       " 'появились': 1768382,\n",
       " 'продаже': 1794058,\n",
       " 'улучшенные': 2013067,\n",
       " 'сверх': 1882181,\n",
       " 'редких': 1845453,\n",
       " 'банкнот': 1164914,\n",
       " 'водяными': 1236520,\n",
       " 'знаками': 1387483,\n",
       " 'высокая': 1259296,\n",
       " 'резолюция': 1846748,\n",
       " 'реальные': 1843425,\n",
       " 'видны': 1225184,\n",
       " 'мельчайшие': 1542262,\n",
       " 'подробности': 1737952,\n",
       " 'боне': 1189290,\n",
       " 'двусторонняя': 1306531,\n",
       " 'печать': 1712787,\n",
       " 'водостойкая': 1236165,\n",
       " 'светостойкая': 1883986,\n",
       " 'качественная': 1436141,\n",
       " 'краска': 1477668,\n",
       " 'выглядят': 1252525,\n",
       " 'реалистичными': 1843318,\n",
       " 'как': 1422879,\n",
       " 'вопрос': 1241208,\n",
       " 'ответ': 1662548,\n",
       " 'снижена': 1914156,\n",
       " 'вместо': 1231991,\n",
       " '250': 239400,\n",
       " 'рублей': 1861953,\n",
       " 'штуку': 2097825,\n",
       " 'так': 1963403,\n",
       " 'же': 1352343,\n",
       " 'возможны': 1238158,\n",
       " 'скидки': 1902495,\n",
       " 'оптовые': 1652482,\n",
       " 'заказы': 1366660,\n",
       " 'чем': 2074142,\n",
       " 'лучше': 1514044,\n",
       " 'конкурентов': 1463969,\n",
       " 'чернила': 2075409,\n",
       " 'выгорят': 1252744,\n",
       " 'сильном': 1897169,\n",
       " 'свете': 1882938,\n",
       " 'потекут': 1764588,\n",
       " 'влажности': 1230852,\n",
       " 'опыт': 1652990,\n",
       " 'изготовлению': 1395584,\n",
       " '2009': 196353,\n",
       " 'сотни': 1924383,\n",
       " 'положительных': 1750299,\n",
       " 'отзывов': 1664763,\n",
       " 'разных': 1830237,\n",
       " 'интернет': 1406316,\n",
       " 'площадках': 1723344,\n",
       " 'вид': 1223157,\n",
       " 'доставки': 1335590,\n",
       " 'заказное': 1366612,\n",
       " 'письмо': 1716469,\n",
       " 'израиля': 1398262,\n",
       " 'стоит': 1942798,\n",
       " 'покупке': 1746009,\n",
       " 'сумму': 1951206,\n",
       " '3500': 303776,\n",
       " 'пересылка': 1708537,\n",
       " 'заказным': 1366619,\n",
       " 'письмом': 1716471,\n",
       " 'высылаются': 1261605,\n",
       " 'бумажные': 1198682,\n",
       " 'деньги': 1313753,\n",
       " 'царской': 2063145,\n",
       " 'период': 1709701,\n",
       " 'правления': 1770952,\n",
       " 'царя': 2063203,\n",
       " 'александра': 1135886,\n",
       " 'ii': 829771,\n",
       " '1855': 168757,\n",
       " '1881': 170484,\n",
       " 'рубль': 1862044,\n",
       " '1876': 170145,\n",
       " 'рубля': 1862061,\n",
       " '1878': 170206,\n",
       " '1872': 169998,\n",
       " '50': 392439,\n",
       " 'большой': 1188836,\n",
       " 'копий': 1467649,\n",
       " 'гражданской': 1290024,\n",
       " 'войны': 1238909,\n",
       " 'ранних': 1833731,\n",
       " 'советов': 1916758,\n",
       " 'жe': 1351077,\n",
       " 'меня': 1543060,\n",
       " 'сделать': 1887140,\n",
       " 'спец': 1927516,\n",
       " 'виды': 1225332,\n",
       " '1918': 174268,\n",
       " '1919': 174332,\n",
       " '1921': 174649,\n",
       " '1922': 174709,\n",
       " '1923': 174746,\n",
       " '1924': 174796,\n",
       " '1925': 174842,\n",
       " '1926': 174905,\n",
       " '1928': 175002,\n",
       " '1932': 175376,\n",
       " '1934': 175468,\n",
       " '1937': 175623,\n",
       " '1938': 175653,\n",
       " '1947': 176112,\n",
       " '1957': 176641,\n",
       " 'пожалуйста': 1742129,\n",
       " 'присылайте': 1788356,\n",
       " 'любые': 1515616,\n",
       " 'торгов': 1985928,\n",
       " 'комбинируем': 1458178,\n",
       " 'доставку': 1335607,\n",
       " 'нескольких': 1609954,\n",
       " 'элементов': 2112491,\n",
       " 'получит': 1753670,\n",
       " 'номер': 1620177,\n",
       " 'заказного': 1366611,\n",
       " 'письма': 1716427,\n",
       " 'отслеживания': 1670788,\n",
       " 'интернету': 1406365,\n",
       " 'оплата': 1650668,\n",
       " 'самые': 1876474,\n",
       " 'приоритетные': 1786207,\n",
       " 'способы': 1930912,\n",
       " 'контакт': 1465238,\n",
       " 'золотая': 1388226,\n",
       " 'корона': 1470473,\n",
       " 'лидер': 1505247,\n",
       " 'анелик': 1142206,\n",
       " 'также': 1963507,\n",
       " 'переводов': 1701820,\n",
       " 'такие': 1963535,\n",
       " 'мигом': 1548333,\n",
       " 'unistream': 1061640,\n",
       " 'moneygram': 909023,\n",
       " 'western': 1084059,\n",
       " 'union': 1061571,\n",
       " 'paypal': 950112,\n",
       " 'pублях': 971168,\n",
       " 'яндекс': 2123378,\n",
       " 'заказавший': 1366536,\n",
       " 'бон': 1189158,\n",
       " '7000': 500144,\n",
       " 'выше': 1262834,\n",
       " 'получает': 1753481,\n",
       " 'книгу': 1450152,\n",
       " 'краткая': 1478891,\n",
       " 'история': 1412365,\n",
       " 'бумажных': 1198687,\n",
       " 'денег': 1313510,\n",
       " 'российской': 1859549,\n",
       " 'империи': 1401301,\n",
       " 'рсфср': 1861382,\n",
       " 'рф': 1864715,\n",
       " '1769': 161354,\n",
       " 'новые': 1619118,\n",
       " 'удобном': 2008885,\n",
       " 'каблучке': 1421120,\n",
       " 'вечернее': 1220329,\n",
       " 'платье': 1720457,\n",
       " 'макси': 1525500,\n",
       " 'длинное': 1326255,\n",
       " 'электрика': 2108993,\n",
       " 'одевалось': 1640129,\n",
       " 'свадьбу': 1880785,\n",
       " 'чемодан': 2074188,\n",
       " 'колёсах': 1457274,\n",
       " 'стильный': 1941775,\n",
       " 'ударопрочный': 2007879,\n",
       " 'пластиковый': 1719587,\n",
       " 'легкий': 1500470,\n",
       " 'надежный': 1583160,\n",
       " 'корпус': 1471113,\n",
       " 'чемодана': 2074192,\n",
       " 'сделан': 1887096,\n",
       " 'abs': 637269,\n",
       " 'пластика': 1719497,\n",
       " 'выдерживает': 1253537,\n",
       " 'нагрузки': 1582700,\n",
       " '120': 99289,\n",
       " 'со': 1915064,\n",
       " 'съемными': 1956381,\n",
       " 'колесиками': 1454507,\n",
       " 'гарантирует': 1270333,\n",
       " 'их': 1413472,\n",
       " 'сохранность': 1925090,\n",
       " 'сдаче': 1886823,\n",
       " 'багажа': 1161155,\n",
       " 'самолет': 1875107,\n",
       " 'имеется': 1400406,\n",
       " 'телескопическая': 1970197,\n",
       " 'ручка': 1864490,\n",
       " 'которая': 1474244,\n",
       " 'фиксируется': 2034267,\n",
       " 'положениях': 1750220,\n",
       " 'хороший': 2058544,\n",
       " 'кодовый': 1452212,\n",
       " 'замок': 1371007,\n",
       " 'бесплатная': 1176991,\n",
       " 'заказа': 1366525,\n",
       " '12': 99288,\n",
       " 'месяцев': 1544631,\n",
       " 'размеры': 1828787,\n",
       " 'данной': 1302647,\n",
       " 'модели': 1560117,\n",
       " '55': 430580,\n",
       " '2x34': 270079,\n",
       " '9x23': 609754,\n",
       " '2100': 208046,\n",
       " 'маленький': 1526260,\n",
       " 'ручная': 1864568,\n",
       " 'кладь': 1446095,\n",
       " '65': 476749,\n",
       " '3x45': 331280,\n",
       " '3x26': 331229,\n",
       " '2700': 252202,\n",
       " '75': 515780,\n",
       " '3x53': 331296,\n",
       " '9x30': 609804,\n",
       " '3100': 282128,\n",
       " 'семейный': 1890465,\n",
       " 'ассортименте': 1153124,\n",
       " 'много': 1557799,\n",
       " 'моделей': 1560099,\n",
       " 'дорожных': 1335019,\n",
       " 'чемоданов': 2074207,\n",
       " 'различных': 1827877,\n",
       " ...}"
      ]
     },
     "execution_count": 23,
     "metadata": {},
     "output_type": "execute_result"
    }
   ],
   "source": [
    "voc = count_vectorizer.vocabulary_\n",
    "voc"
   ]
  },
  {
   "cell_type": "code",
   "execution_count": 24,
   "metadata": {},
   "outputs": [
    {
     "data": {
      "text/plain": [
       "610944"
      ]
     },
     "execution_count": 24,
     "metadata": {},
     "output_type": "execute_result"
    }
   ],
   "source": [
    "# Найдите в этом словаре все слова, которые начинаются на цифру. Сколько таких слов нашлось?\n",
    "start_digits = [key for key in voc if key[0].isdigit()]\n",
    "len(start_digits)"
   ]
  },
  {
   "cell_type": "code",
   "execution_count": 25,
   "metadata": {},
   "outputs": [],
   "source": [
    "from string import punctuation"
   ]
  },
  {
   "cell_type": "code",
   "execution_count": 26,
   "metadata": {},
   "outputs": [
    {
     "data": {
      "text/plain": [
       "2043"
      ]
     },
     "execution_count": 26,
     "metadata": {},
     "output_type": "execute_result"
    }
   ],
   "source": [
    "# Найдите все слова, которые начинаются на символы пунктуации. Сколько таких слов нашлось?\n",
    "start_punct = [key for key in voc if key[0] in punctuation]\n",
    "len(start_punct)"
   ]
  },
  {
   "cell_type": "markdown",
   "metadata": {},
   "source": [
    "## Задание 6 (2.5 балла)\n",
    "\n",
    "В scikit-learn мы можем оценивать процесс подсчета матрицы через CountVectorizer. У CountVectorizer, как и у других наследников \\_VectorizerMixin, есть аргумент tokenizer и preprocessor. preprocessor применится в самом начале к каждой строке вашего датасета, tokenizer же должен принять строку и вернуть токены.\n",
    "Давайте напишем кастомный токенайзер, которые сделает все, что нам нужно: \n",
    "\n",
    "0. Приведет все буквы к нижнему регистру\n",
    "1. Разобьет текст на токены с помощью word_tokenizer из пакета nltk\n",
    "2. Удалит все токены содержащие числа и пунктуацию\n",
    "3. Удалит все токены, которые перечислены в nltk.corpus.stopwords('russian')\n",
    "4. Проведет стемминг с помощью SnowballStemmer\n",
    "\n",
    "Продемонстрируйте работу вашей функии на самом первом описании товара в датасете.\n",
    "\n",
    "Важно: так как функцию будет необходимо запускать на большом корпусе, подумайте об эффективной реализации. Постарайтесь решить задачу в минимальное количество циклов и копирований.\n",
    "\n",
    "Референсная реализация на компьютере автора работала 230 секунд на 100к строчек."
   ]
  },
  {
   "cell_type": "code",
   "execution_count": 63,
   "metadata": {},
   "outputs": [],
   "source": [
    "from nltk.tokenize import word_tokenize\n",
    "from nltk.corpus import stopwords\n",
    "from nltk.stem.snowball import SnowballStemmer\n",
    "\n",
    "\n",
    "def contains_digits_or_punctuation(value: str) -> bool:\n",
    "    return any(char.isdigit() or char in punctuation for char in value)\n",
    "\n",
    "\n",
    "def my_tokenizer(value: str) -> list:\n",
    "    value = value.lower() # 0\n",
    "    tokens = word_tokenize(value) # 1\n",
    "    stop_words = stopwords.words('russian')\n",
    "    stemmer = SnowballStemmer('russian')\n",
    "    # 2, 3, 4\n",
    "    tokens = [stemmer.stem(token) for token in tokens if not (token in stop_words or contains_digits_or_punctuation(token))]\n",
    "    return tokens"
   ]
  },
  {
   "cell_type": "code",
   "execution_count": 28,
   "metadata": {
    "scrolled": true
   },
   "outputs": [
    {
     "data": {
      "text/plain": [
       "['эб',\n",
       " 'renault',\n",
       " 'nissan',\n",
       " 'dci',\n",
       " 'delphi',\n",
       " 'год',\n",
       " 'комплект',\n",
       " 'эб',\n",
       " 'мозг',\n",
       " 'компьютер',\n",
       " 'мотор',\n",
       " 'двигател',\n",
       " 'коммутатор',\n",
       " 'электрон',\n",
       " 'блок',\n",
       " 'управлен',\n",
       " 'двигател',\n",
       " 'компьютер',\n",
       " 'мотор',\n",
       " 'рен',\n",
       " 'kangoo',\n",
       " 'канг',\n",
       " 'канг',\n",
       " 'мега',\n",
       " 'сценик',\n",
       " 'laguna',\n",
       " 'лагун',\n",
       " 'clio',\n",
       " 'кли',\n",
       " 'nissan',\n",
       " 'micra',\n",
       " 'нисса',\n",
       " 'микр',\n",
       " 'друг',\n",
       " 'рен',\n",
       " 'нисса',\n",
       " 'дизел',\n",
       " 'топливн',\n",
       " 'аппаратур',\n",
       " 'делф',\n",
       " 'оригина',\n",
       " 'отличн',\n",
       " 'состоян',\n",
       " 'проверен',\n",
       " 'гарант',\n",
       " 'запчаст',\n",
       " 'предоставля',\n",
       " 'гарант',\n",
       " 'возможн',\n",
       " 'установк',\n",
       " 'подробн',\n",
       " '—',\n",
       " 'раздел',\n",
       " '«',\n",
       " 'компан',\n",
       " '»',\n",
       " 'дорож',\n",
       " 'сво',\n",
       " 'репутац',\n",
       " 'торгу',\n",
       " 'легальн',\n",
       " 'контрактн',\n",
       " 'запчаст',\n",
       " 'дета',\n",
       " 'налич',\n",
       " 'таможен',\n",
       " 'документ',\n",
       " 'запчаст',\n",
       " 'автомобил',\n",
       " 'пробег',\n",
       " 'росс',\n",
       " 'отправля',\n",
       " 'друг',\n",
       " 'регион',\n",
       " 'таможен',\n",
       " 'союз',\n",
       " 'транспортн',\n",
       " 'компан',\n",
       " 'наложн',\n",
       " 'платеж']"
      ]
     },
     "execution_count": 28,
     "metadata": {},
     "output_type": "execute_result"
    }
   ],
   "source": [
    "# Продемонстрируйте работу вашей функии на самом первом описании товара в датасете.\n",
    "my_tokenizer(train.iloc[0]['title_description'])"
   ]
  },
  {
   "cell_type": "markdown",
   "metadata": {},
   "source": [
    "## Задание 7 (1 балл)\n",
    "\n",
    "1. Возьмите случайные 500к строк из датасета. Постройте по ним CountVectorizer с применением вашего токенизатора.\n",
    "2. Разбейте полученную матрицу на train, test в отношении 4 к 1. Не забудьте про target переменную.\n",
    "3. Обучите SGDClassifier на полученной выборке.\n",
    "4. Посчитайте метрику accuracy"
   ]
  },
  {
   "cell_type": "code",
   "execution_count": 29,
   "metadata": {},
   "outputs": [],
   "source": [
    "from sklearn.model_selection import train_test_split\n",
    "from sklearn.linear_model import SGDClassifier\n",
    "from sklearn.metrics import accuracy_score"
   ]
  },
  {
   "cell_type": "code",
   "execution_count": 30,
   "metadata": {},
   "outputs": [],
   "source": [
    "# 1. Возьмите случайные 500к строк из датасета. \n",
    "sample = train.sample(500000, random_state=42)"
   ]
  },
  {
   "cell_type": "code",
   "execution_count": 40,
   "metadata": {},
   "outputs": [],
   "source": [
    "# Постройте по ним CountVectorizer с применением вашего токенизатора.\n",
    "cvt = CountVectorizer(tokenizer=my_tokenizer)"
   ]
  },
  {
   "cell_type": "code",
   "execution_count": 41,
   "metadata": {
    "scrolled": true
   },
   "outputs": [],
   "source": [
    "cvt_df = cvt.fit_transform(sample['title_description'])"
   ]
  },
  {
   "cell_type": "code",
   "execution_count": 42,
   "metadata": {},
   "outputs": [
    {
     "data": {
      "text/plain": [
       "<500000x588226 sparse matrix of type '<class 'numpy.int64'>'\n",
       "\twith 17819845 stored elements in Compressed Sparse Row format>"
      ]
     },
     "execution_count": 42,
     "metadata": {},
     "output_type": "execute_result"
    }
   ],
   "source": [
    "cvt_df"
   ]
  },
  {
   "cell_type": "code",
   "execution_count": 43,
   "metadata": {},
   "outputs": [],
   "source": [
    "# 2. Разбейте полученную матрицу на train, test в отношении 4 к 1. \n",
    "X_train, X_test, y_train, y_test = train_test_split(cvt_df, sample['Category'], test_size=0.2, random_state=42)"
   ]
  },
  {
   "cell_type": "code",
   "execution_count": 44,
   "metadata": {},
   "outputs": [
    {
     "data": {
      "text/plain": [
       "SGDClassifier()"
      ]
     },
     "execution_count": 44,
     "metadata": {},
     "output_type": "execute_result"
    }
   ],
   "source": [
    "# 3. Обучите SGDClassifier на полученной выборке.\n",
    "cvt_classifier = SGDClassifier()\n",
    "cvt_classifier.fit(X_train, y_train)"
   ]
  },
  {
   "cell_type": "code",
   "execution_count": 45,
   "metadata": {
    "scrolled": true
   },
   "outputs": [
    {
     "data": {
      "text/plain": [
       "0.87071"
      ]
     },
     "execution_count": 45,
     "metadata": {},
     "output_type": "execute_result"
    }
   ],
   "source": [
    "# 4. Посчитайте метрику accuracy\n",
    "cvt_y_pred = cvt_classifier.predict(X_test)\n",
    "accuracy_score(y_test, cvt_y_pred)"
   ]
  },
  {
   "cell_type": "markdown",
   "metadata": {},
   "source": [
    "## Задание 8 (1 балл)\n",
    "\n",
    "1. Повторите 7 задание, но с tf-idf векторизатором. Как изменилось качество.\n",
    "2. Мы можем еще сильнее уменьшите размер нашей матрицы, если отбросим значения df близкие к единице. Скорее всего такие слова не несут много информации о категории, так как встречаются достаточно часто. Ограничьте максимальный df в параметрах TfIdfVectorizer, поставьте верхнюю границу равную 0.9. Как изменился размер матрицы, как изменилось качество?\n"
   ]
  },
  {
   "cell_type": "code",
   "execution_count": 46,
   "metadata": {},
   "outputs": [],
   "source": [
    "from sklearn.feature_extraction.text import TfidfVectorizer"
   ]
  },
  {
   "cell_type": "code",
   "execution_count": 47,
   "metadata": {},
   "outputs": [],
   "source": [
    "# Буду использовать sample полученный в предыдущем задании\n",
    "tfidf_vec = TfidfVectorizer(tokenizer=my_tokenizer)"
   ]
  },
  {
   "cell_type": "code",
   "execution_count": 48,
   "metadata": {},
   "outputs": [],
   "source": [
    "tfidf_df = tfidf_vec.fit_transform(sample['title_description'])"
   ]
  },
  {
   "cell_type": "code",
   "execution_count": 49,
   "metadata": {},
   "outputs": [
    {
     "data": {
      "text/plain": [
       "<500000x216704 sparse matrix of type '<class 'numpy.float64'>'\n",
       "\twith 12498946 stored elements in Compressed Sparse Row format>"
      ]
     },
     "execution_count": 49,
     "metadata": {},
     "output_type": "execute_result"
    }
   ],
   "source": [
    "tfidf_df"
   ]
  },
  {
   "cell_type": "code",
   "execution_count": 50,
   "metadata": {},
   "outputs": [],
   "source": [
    "X_train, X_test, y_train, y_test = train_test_split(tfidf_df, sample['Category'], test_size=0.2, random_state=42)"
   ]
  },
  {
   "cell_type": "code",
   "execution_count": 51,
   "metadata": {},
   "outputs": [
    {
     "data": {
      "text/plain": [
       "SGDClassifier()"
      ]
     },
     "execution_count": 51,
     "metadata": {},
     "output_type": "execute_result"
    }
   ],
   "source": [
    "tfidf_classifier = SGDClassifier()\n",
    "tfidf_classifier.fit(X_train, y_train)"
   ]
  },
  {
   "cell_type": "code",
   "execution_count": 52,
   "metadata": {},
   "outputs": [
    {
     "data": {
      "text/plain": [
       "0.83385"
      ]
     },
     "execution_count": 52,
     "metadata": {},
     "output_type": "execute_result"
    }
   ],
   "source": [
    "# Качество стало ниже. Грустно\n",
    "tfidf_y_pred = tfidf_classifier.predict(X_test)\n",
    "accuracy_score(y_test, tfidf_y_pred)"
   ]
  },
  {
   "cell_type": "code",
   "execution_count": 53,
   "metadata": {},
   "outputs": [],
   "source": [
    "# Задаю верхнуюю границу 0.9\n",
    "tfidf_vec_upper = TfidfVectorizer(tokenizer=my_tokenizer, max_df=0.9)"
   ]
  },
  {
   "cell_type": "code",
   "execution_count": 54,
   "metadata": {
    "scrolled": true
   },
   "outputs": [],
   "source": [
    "tfidf_upper_df = tfidf_vec_upper.fit_transform(sample['title_description'])"
   ]
  },
  {
   "cell_type": "code",
   "execution_count": 55,
   "metadata": {},
   "outputs": [
    {
     "data": {
      "text/plain": [
       "<500000x216704 sparse matrix of type '<class 'numpy.float64'>'\n",
       "\twith 12498946 stored elements in Compressed Sparse Row format>"
      ]
     },
     "execution_count": 55,
     "metadata": {},
     "output_type": "execute_result"
    }
   ],
   "source": [
    "tfidf_upper_df"
   ]
  },
  {
   "cell_type": "code",
   "execution_count": 56,
   "metadata": {},
   "outputs": [],
   "source": [
    "X_train, X_test, y_train, y_test = train_test_split(tfidf_upper_df, sample['Category'], test_size=0.2, random_state=42)"
   ]
  },
  {
   "cell_type": "code",
   "execution_count": 57,
   "metadata": {},
   "outputs": [
    {
     "data": {
      "text/plain": [
       "SGDClassifier()"
      ]
     },
     "execution_count": 57,
     "metadata": {},
     "output_type": "execute_result"
    }
   ],
   "source": [
    "tfidf_upper_classifier = SGDClassifier()\n",
    "tfidf_upper_classifier.fit(X_train, y_train)"
   ]
  },
  {
   "cell_type": "code",
   "execution_count": 58,
   "metadata": {},
   "outputs": [
    {
     "data": {
      "text/plain": [
       "0.8339"
      ]
     },
     "execution_count": 58,
     "metadata": {},
     "output_type": "execute_result"
    }
   ],
   "source": [
    "# Качество не изменилось. Судя по размеру спарс матрицы, она идентична исходной и max_df=0.9 никак не повлиял на результат \n",
    "tfidf_upper_y_pred = tfidf_upper_classifier.predict(X_test)\n",
    "accuracy_score(y_test, tfidf_upper_y_pred)"
   ]
  },
  {
   "cell_type": "markdown",
   "metadata": {},
   "source": [
    "## Задание 9 (1 балл)\n",
    "Еще один популярный трюк, который позволит уменьшить количество признаков называется hashing trick. Его суть в том, то мы случайно группируем признаки ииии  ..... складываем их! А потом удаляем исходные признаки. В итоге все наши признаки это просто суммы исходных. Звучит странно, но это отлично работает. Давайте проверим этот трюк в нашем сеттинге.\n",
    "Также при таком подходе вам не нужно хранить словарь token->index, что тоже иногда полезно.\n",
    "\n",
    "1. Повторите задание 7 с HashingVectorizer, укажите количество фичей равное 30000.\n",
    "2. Какой из трех подходов показал самый высокий результат?"
   ]
  },
  {
   "cell_type": "code",
   "execution_count": 31,
   "metadata": {},
   "outputs": [],
   "source": [
    "from sklearn.feature_extraction.text import HashingVectorizer"
   ]
  },
  {
   "cell_type": "code",
   "execution_count": 32,
   "metadata": {},
   "outputs": [],
   "source": [
    "hash_vec = HashingVectorizer(tokenizer=my_tokenizer, n_features=30000)"
   ]
  },
  {
   "cell_type": "code",
   "execution_count": 33,
   "metadata": {},
   "outputs": [
    {
     "name": "stderr",
     "output_type": "stream",
     "text": [
      "C:\\Users\\Fedor\\anaconda3\\lib\\site-packages\\sklearn\\feature_extraction\\text.py:484: UserWarning: The parameter 'token_pattern' will not be used since 'tokenizer' is not None'\n",
      "  warnings.warn(\"The parameter 'token_pattern' will not be used\"\n"
     ]
    }
   ],
   "source": [
    "hash_df = hash_vec.fit_transform(sample['title_description'])"
   ]
  },
  {
   "cell_type": "code",
   "execution_count": 34,
   "metadata": {},
   "outputs": [
    {
     "data": {
      "text/plain": [
       "<500000x30000 sparse matrix of type '<class 'numpy.float64'>'\n",
       "\twith 12488077 stored elements in Compressed Sparse Row format>"
      ]
     },
     "execution_count": 34,
     "metadata": {},
     "output_type": "execute_result"
    }
   ],
   "source": [
    "hash_df"
   ]
  },
  {
   "cell_type": "code",
   "execution_count": 35,
   "metadata": {},
   "outputs": [],
   "source": [
    "X_train, X_test, y_train, y_test = train_test_split(hash_df, sample['Category'], test_size=0.2, random_state=42)"
   ]
  },
  {
   "cell_type": "code",
   "execution_count": 36,
   "metadata": {},
   "outputs": [
    {
     "data": {
      "text/plain": [
       "SGDClassifier()"
      ]
     },
     "execution_count": 36,
     "metadata": {},
     "output_type": "execute_result"
    }
   ],
   "source": [
    "hash_classifier = SGDClassifier()\n",
    "hash_classifier.fit(X_train, y_train)"
   ]
  },
  {
   "cell_type": "code",
   "execution_count": 37,
   "metadata": {
    "scrolled": true
   },
   "outputs": [
    {
     "data": {
      "text/plain": [
       "0.81451"
      ]
     },
     "execution_count": 37,
     "metadata": {},
     "output_type": "execute_result"
    }
   ],
   "source": [
    "# Ну вот, стало ещё хуже. По крайней мере, по accuracy\n",
    "hash_y_pred = hash_classifier.predict(X_test)\n",
    "accuracy_score(y_test, hash_y_pred)"
   ]
  },
  {
   "cell_type": "code",
   "execution_count": null,
   "metadata": {},
   "outputs": [],
   "source": [
    "# Наилучший результат показал самый первый способ - через CountVectorizer.\n",
    "# Им и воспользуюсь в следующем задании."
   ]
  },
  {
   "cell_type": "markdown",
   "metadata": {},
   "source": [
    "## Задание 10 (1.5 балла)\n",
    "\n",
    "Пришло время выйти в мир. Отправляйтесь на Kaggle Inclass и сделайте первую посылку. Там вы найдете инструкцию как сформировать файл с предсказаниями и отправить его."
   ]
  },
  {
   "cell_type": "code",
   "execution_count": 67,
   "metadata": {},
   "outputs": [],
   "source": [
    "# CountVectorizer потерян при перезапуске ноутбука, обучаю его на случайной выборке снова\n",
    "test_cvt = CountVectorizer(tokenizer=my_tokenizer)\n",
    "train_cvt_df = test_cvt.fit_transform(sample['title_description'])"
   ]
  },
  {
   "cell_type": "code",
   "execution_count": 68,
   "metadata": {},
   "outputs": [
    {
     "data": {
      "text/plain": [
       "SGDClassifier()"
      ]
     },
     "execution_count": 68,
     "metadata": {},
     "output_type": "execute_result"
    }
   ],
   "source": [
    "test_cvt_classifier = SGDClassifier()\n",
    "test_cvt_classifier.fit(train_cvt_df, sample['Category'])"
   ]
  },
  {
   "cell_type": "code",
   "execution_count": 69,
   "metadata": {},
   "outputs": [],
   "source": [
    "# Применяю transform \"обученного\" CountVectorizer'а к тестовым данным \n",
    "test_cvt_df = test_cvt.transform(test['title_description'])"
   ]
  },
  {
   "cell_type": "code",
   "execution_count": 70,
   "metadata": {},
   "outputs": [],
   "source": [
    "test_cvt_y_pred = test_cvt_classifier.predict(test_cvt_df)"
   ]
  },
  {
   "cell_type": "code",
   "execution_count": 72,
   "metadata": {},
   "outputs": [],
   "source": [
    "import numpy as np"
   ]
  },
  {
   "cell_type": "code",
   "execution_count": 78,
   "metadata": {},
   "outputs": [
    {
     "data": {
      "text/html": [
       "<div>\n",
       "<style scoped>\n",
       "    .dataframe tbody tr th:only-of-type {\n",
       "        vertical-align: middle;\n",
       "    }\n",
       "\n",
       "    .dataframe tbody tr th {\n",
       "        vertical-align: top;\n",
       "    }\n",
       "\n",
       "    .dataframe thead th {\n",
       "        text-align: right;\n",
       "    }\n",
       "</style>\n",
       "<table border=\"1\" class=\"dataframe\">\n",
       "  <thead>\n",
       "    <tr style=\"text-align: right;\">\n",
       "      <th></th>\n",
       "      <th>Id</th>\n",
       "      <th>Category</th>\n",
       "    </tr>\n",
       "  </thead>\n",
       "  <tbody>\n",
       "    <tr>\n",
       "      <th>0</th>\n",
       "      <td>1778449823</td>\n",
       "      <td>29</td>\n",
       "    </tr>\n",
       "    <tr>\n",
       "      <th>1</th>\n",
       "      <td>1677656962</td>\n",
       "      <td>29</td>\n",
       "    </tr>\n",
       "    <tr>\n",
       "      <th>2</th>\n",
       "      <td>1758182804</td>\n",
       "      <td>32</td>\n",
       "    </tr>\n",
       "    <tr>\n",
       "      <th>3</th>\n",
       "      <td>1689811299</td>\n",
       "      <td>10</td>\n",
       "    </tr>\n",
       "    <tr>\n",
       "      <th>4</th>\n",
       "      <td>1804706240</td>\n",
       "      <td>30</td>\n",
       "    </tr>\n",
       "    <tr>\n",
       "      <th>...</th>\n",
       "      <td>...</td>\n",
       "      <td>...</td>\n",
       "    </tr>\n",
       "    <tr>\n",
       "      <th>1411343</th>\n",
       "      <td>902146704</td>\n",
       "      <td>19</td>\n",
       "    </tr>\n",
       "    <tr>\n",
       "      <th>1411344</th>\n",
       "      <td>1799983289</td>\n",
       "      <td>10</td>\n",
       "    </tr>\n",
       "    <tr>\n",
       "      <th>1411345</th>\n",
       "      <td>1177237748</td>\n",
       "      <td>29</td>\n",
       "    </tr>\n",
       "    <tr>\n",
       "      <th>1411346</th>\n",
       "      <td>1793055786</td>\n",
       "      <td>84</td>\n",
       "    </tr>\n",
       "    <tr>\n",
       "      <th>1411347</th>\n",
       "      <td>1109142980</td>\n",
       "      <td>27</td>\n",
       "    </tr>\n",
       "  </tbody>\n",
       "</table>\n",
       "<p>1411348 rows × 2 columns</p>\n",
       "</div>"
      ],
      "text/plain": [
       "                 Id  Category\n",
       "0        1778449823        29\n",
       "1        1677656962        29\n",
       "2        1758182804        32\n",
       "3        1689811299        10\n",
       "4        1804706240        30\n",
       "...             ...       ...\n",
       "1411343   902146704        19\n",
       "1411344  1799983289        10\n",
       "1411345  1177237748        29\n",
       "1411346  1793055786        84\n",
       "1411347  1109142980        27\n",
       "\n",
       "[1411348 rows x 2 columns]"
      ]
     },
     "execution_count": 78,
     "metadata": {},
     "output_type": "execute_result"
    }
   ],
   "source": [
    "res = pd.DataFrame()\n",
    "res['Id'] = test['itemid']\n",
    "res['Category'] = test_cvt_y_pred\n",
    "res"
   ]
  },
  {
   "cell_type": "code",
   "execution_count": 79,
   "metadata": {},
   "outputs": [],
   "source": [
    "res.to_csv ('submission.csv', index = False)"
   ]
  },
  {
   "cell_type": "code",
   "execution_count": null,
   "metadata": {},
   "outputs": [],
   "source": [
    "# Попробую на всей train выборке, че бы и нет.\n",
    "# Будет долго, но мб того стоит"
   ]
  },
  {
   "cell_type": "code",
   "execution_count": 85,
   "metadata": {},
   "outputs": [
    {
     "name": "stdout",
     "output_type": "stream",
     "text": [
      "Wall time: 2h 26min 44s\n"
     ]
    }
   ],
   "source": [
    "%%time\n",
    "full_cvt = CountVectorizer(tokenizer=my_tokenizer)\n",
    "full_df = full_cvt.fit_transform(train['title_description'])"
   ]
  },
  {
   "cell_type": "code",
   "execution_count": 86,
   "metadata": {},
   "outputs": [
    {
     "name": "stdout",
     "output_type": "stream",
     "text": [
      "Wall time: 8min 50s\n"
     ]
    },
    {
     "data": {
      "text/plain": [
       "SGDClassifier()"
      ]
     },
     "execution_count": 86,
     "metadata": {},
     "output_type": "execute_result"
    }
   ],
   "source": [
    "%%time\n",
    "full_cvt_classifier = SGDClassifier()\n",
    "full_cvt_classifier.fit(full_df, train['Category'])"
   ]
  },
  {
   "cell_type": "code",
   "execution_count": 87,
   "metadata": {},
   "outputs": [
    {
     "name": "stdout",
     "output_type": "stream",
     "text": [
      "Wall time: 49min 20s\n"
     ]
    }
   ],
   "source": [
    "%%time\n",
    "full_test_df = full_cvt.transform(test['title_description'])"
   ]
  },
  {
   "cell_type": "code",
   "execution_count": 88,
   "metadata": {},
   "outputs": [
    {
     "name": "stdout",
     "output_type": "stream",
     "text": [
      "Wall time: 2.13 s\n"
     ]
    }
   ],
   "source": [
    "%%time\n",
    "full_pred = full_cvt_classifier.predict(full_test_df)"
   ]
  },
  {
   "cell_type": "code",
   "execution_count": 89,
   "metadata": {
    "scrolled": true
   },
   "outputs": [
    {
     "data": {
      "text/html": [
       "<div>\n",
       "<style scoped>\n",
       "    .dataframe tbody tr th:only-of-type {\n",
       "        vertical-align: middle;\n",
       "    }\n",
       "\n",
       "    .dataframe tbody tr th {\n",
       "        vertical-align: top;\n",
       "    }\n",
       "\n",
       "    .dataframe thead th {\n",
       "        text-align: right;\n",
       "    }\n",
       "</style>\n",
       "<table border=\"1\" class=\"dataframe\">\n",
       "  <thead>\n",
       "    <tr style=\"text-align: right;\">\n",
       "      <th></th>\n",
       "      <th>Id</th>\n",
       "      <th>Category</th>\n",
       "    </tr>\n",
       "  </thead>\n",
       "  <tbody>\n",
       "    <tr>\n",
       "      <th>0</th>\n",
       "      <td>1778449823</td>\n",
       "      <td>27</td>\n",
       "    </tr>\n",
       "    <tr>\n",
       "      <th>1</th>\n",
       "      <td>1677656962</td>\n",
       "      <td>29</td>\n",
       "    </tr>\n",
       "    <tr>\n",
       "      <th>2</th>\n",
       "      <td>1758182804</td>\n",
       "      <td>32</td>\n",
       "    </tr>\n",
       "    <tr>\n",
       "      <th>3</th>\n",
       "      <td>1689811299</td>\n",
       "      <td>10</td>\n",
       "    </tr>\n",
       "    <tr>\n",
       "      <th>4</th>\n",
       "      <td>1804706240</td>\n",
       "      <td>30</td>\n",
       "    </tr>\n",
       "    <tr>\n",
       "      <th>...</th>\n",
       "      <td>...</td>\n",
       "      <td>...</td>\n",
       "    </tr>\n",
       "    <tr>\n",
       "      <th>1411343</th>\n",
       "      <td>902146704</td>\n",
       "      <td>19</td>\n",
       "    </tr>\n",
       "    <tr>\n",
       "      <th>1411344</th>\n",
       "      <td>1799983289</td>\n",
       "      <td>10</td>\n",
       "    </tr>\n",
       "    <tr>\n",
       "      <th>1411345</th>\n",
       "      <td>1177237748</td>\n",
       "      <td>29</td>\n",
       "    </tr>\n",
       "    <tr>\n",
       "      <th>1411346</th>\n",
       "      <td>1793055786</td>\n",
       "      <td>84</td>\n",
       "    </tr>\n",
       "    <tr>\n",
       "      <th>1411347</th>\n",
       "      <td>1109142980</td>\n",
       "      <td>27</td>\n",
       "    </tr>\n",
       "  </tbody>\n",
       "</table>\n",
       "<p>1411348 rows × 2 columns</p>\n",
       "</div>"
      ],
      "text/plain": [
       "                 Id  Category\n",
       "0        1778449823        27\n",
       "1        1677656962        29\n",
       "2        1758182804        32\n",
       "3        1689811299        10\n",
       "4        1804706240        30\n",
       "...             ...       ...\n",
       "1411343   902146704        19\n",
       "1411344  1799983289        10\n",
       "1411345  1177237748        29\n",
       "1411346  1793055786        84\n",
       "1411347  1109142980        27\n",
       "\n",
       "[1411348 rows x 2 columns]"
      ]
     },
     "execution_count": 89,
     "metadata": {},
     "output_type": "execute_result"
    }
   ],
   "source": [
    "full_res = pd.DataFrame()\n",
    "full_res['Id'] = test['itemid']\n",
    "full_res['Category'] = full_pred\n",
    "full_res"
   ]
  },
  {
   "cell_type": "code",
   "execution_count": 90,
   "metadata": {},
   "outputs": [],
   "source": [
    "full_res.to_csv ('submission_full.csv', index = False)"
   ]
  },
  {
   "cell_type": "code",
   "execution_count": null,
   "metadata": {},
   "outputs": [],
   "source": [
    "# Улучшилось на процент (теперь 0.8666). Ну хоть хуже не стало..."
   ]
  }
 ],
 "metadata": {
  "kernelspec": {
   "display_name": "Python 3",
   "language": "python",
   "name": "python3"
  },
  "language_info": {
   "codemirror_mode": {
    "name": "ipython",
    "version": 3
   },
   "file_extension": ".py",
   "mimetype": "text/x-python",
   "name": "python",
   "nbconvert_exporter": "python",
   "pygments_lexer": "ipython3",
   "version": "3.8.5"
  }
 },
 "nbformat": 4,
 "nbformat_minor": 2
}
